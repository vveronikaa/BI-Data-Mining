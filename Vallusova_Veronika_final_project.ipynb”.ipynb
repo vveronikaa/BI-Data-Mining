{
 "cells": [
  {
   "cell_type": "markdown",
   "metadata": {},
   "source": [
    "#### V. Vallusova \"On my honor, as a student, I have neither given nor received unauthorized aid on this academic work.\" "
   ]
  },
  {
   "cell_type": "markdown",
   "metadata": {},
   "source": [
    "# Mid-term (Individual) Project"
   ]
  },
  {
   "cell_type": "markdown",
   "metadata": {},
   "source": [
    "# 1. Business understanding"
   ]
  },
  {
   "cell_type": "markdown",
   "metadata": {},
   "source": [
    "Dataset which is used in this research, you can find on the webside:\n",
    "https://data.world/popculture/imdb-5000-movie-dataset\n",
    "\n",
    "Film studios produces several hundred movies in different language. The budget of these movies are of the order of hundreds of millions of dollars. Knowing which movies are likely to succeed and which are likely to fail could beneﬁt the production houses greatly as it will enable them to focus their advertising campaigns which itself cost millions of dollars, accordingly. And it could also help them to know when it is most appropriate to release a movie by looking at the overall market.  \n",
    "\n",
    "(PDF) Predicting Movie Success Based on IMDB Data. Available from: https://www.researchgate.net/publication/282133920_Predicting_Movie_Success_Based_on_IMDB_Data [accessed Oct 10 2018].\n",
    "\n",
    "Dataset consists of data:\n",
    "\n",
    "    movie_title                        Title of the Movie\n",
    "    duration                           Duration in minutes\n",
    "    director_name                      Name of the Director of the Movie\n",
    "    director_facebook_likes            Number of likes of the Director on his Facebook Page\n",
    "    actor_1_name                       Primary actor starring in the movie\n",
    "    actor_1_facebook_likes             Number of likes of the Actor_1 on his/her Facebook Page\n",
    "    actor_2_name                       Other actor starring in the movie\n",
    "    actor_2_facebook_likes             Number of likes of the Actor_2 on his/her Facebook Page\n",
    "    actor_3_name                       Other actor starring in the movie\n",
    "    actor_3_facebook_likes             Number of likes of the Actor_3 on his/her Facebook Page\n",
    "    num_user_for_reviews               Number of users who gave a review\n",
    "    num_critic_for_reviews             Number of critical reviews on imdb\n",
    "    num_voted_users                    Number of people who voted for the movie\n",
    "    cast_total_facebook_likes          Total number of facebook likes of the entire cast of the movie\n",
    "    movie_facebook_likes               Number of Facebook likes in the movie page\n",
    "    plot_keywords                      Keywords describing the movie plot\n",
    "    facenumber_in_poster               Number of the actor who featured in the movie poster\n",
    "    color                              Film colorization. ‘Black and White’ or ‘Color’\n",
    "    genres                             Film categorization like ‘Animation’, ‘Comedy’, ‘Romance’, ‘Horror’, ‘Sci-Fi’, ‘Action’, ‘Family’\n",
    "    title_year                         The year in which the movie is released (1916:2016)\n",
    "    language                           English, Arabic, Chinese, French, German, Danish, Italian, Japanese etc\n",
    "    country                            Country where the movie is produced\n",
    "    content_rating                     Content rating of the movie\n",
    "    aspect_ratio                       Aspect ratio the movie was made in\n",
    "    movie_imdb_link                    IMDB link of the movie\n",
    "    gross                              Gross earnings of the movie in Dollars\n",
    "    budget                             Budget of the movie in Dollars\n",
    "    imdb_score                         IMDB Score of the movie on IMDB"
   ]
  },
  {
   "cell_type": "markdown",
   "metadata": {},
   "source": [
    "### What are the project’s goals?"
   ]
  },
  {
   "cell_type": "markdown",
   "metadata": {},
   "source": [
    "If it was somehow possible to know beforehand the likelihood of success of the movies, the production houses could adjust the release of their movies so as to gain maximum proﬁt. They could use the predictions to know when the market is dull and when it is not. \n",
    "\n",
    "(PDF) Predicting Movie Success Based on IMDB Data. Available from: https://www.researchgate.net/publication/282133920_Predicting_Movie_Success_Based_on_IMDB_Data [accessed Oct 10 2018]."
   ]
  },
  {
   "cell_type": "markdown",
   "metadata": {},
   "source": [
    "### If you’re hired as a data/business analyst to predict how well a movie will perform in theaters, what kind of data would you collect?"
   ]
  },
  {
   "cell_type": "markdown",
   "metadata": {},
   "source": [
    "For prediction how a movie will be perform I would looking for data:\n",
    "\n",
    "    director name - name of the movie director\n",
    "    main actor name - name of the first actor in the movie\n",
    "    duration\n",
    " \n",
    "From the social media like Facebook or Twitter I can find lots of important informations about number of voted user, number of critics for review and number of user for reviews. It is possible to see if people are interesting about movie, if they are looking forward to see this movie in the cinema. We can make advertising about the movie."
   ]
  },
  {
   "cell_type": "markdown",
   "metadata": {},
   "source": [
    "### What variables are highly correlated to imdb score?"
   ]
  },
  {
   "cell_type": "code",
   "execution_count": 2,
   "metadata": {},
   "outputs": [
    {
     "data": {
      "text/html": [
       "<div>\n",
       "<style scoped>\n",
       "    .dataframe tbody tr th:only-of-type {\n",
       "        vertical-align: middle;\n",
       "    }\n",
       "\n",
       "    .dataframe tbody tr th {\n",
       "        vertical-align: top;\n",
       "    }\n",
       "\n",
       "    .dataframe thead th {\n",
       "        text-align: right;\n",
       "    }\n",
       "</style>\n",
       "<table border=\"1\" class=\"dataframe\">\n",
       "  <thead>\n",
       "    <tr style=\"text-align: right;\">\n",
       "      <th></th>\n",
       "      <th>imdb_score</th>\n",
       "    </tr>\n",
       "  </thead>\n",
       "  <tbody>\n",
       "    <tr>\n",
       "      <th>num_voted_users</th>\n",
       "      <td>0.410965</td>\n",
       "    </tr>\n",
       "    <tr>\n",
       "      <th>num_critic_for_reviews</th>\n",
       "      <td>0.305303</td>\n",
       "    </tr>\n",
       "    <tr>\n",
       "      <th>num_user_for_reviews</th>\n",
       "      <td>0.292475</td>\n",
       "    </tr>\n",
       "    <tr>\n",
       "      <th>duration</th>\n",
       "      <td>0.261662</td>\n",
       "    </tr>\n",
       "    <tr>\n",
       "      <th>movie_facebook_likes</th>\n",
       "      <td>0.247049</td>\n",
       "    </tr>\n",
       "    <tr>\n",
       "      <th>gross</th>\n",
       "      <td>0.198021</td>\n",
       "    </tr>\n",
       "    <tr>\n",
       "      <th>director_facebook_likes</th>\n",
       "      <td>0.170802</td>\n",
       "    </tr>\n",
       "    <tr>\n",
       "      <th>cast_total_facebook_likes</th>\n",
       "      <td>0.085787</td>\n",
       "    </tr>\n",
       "    <tr>\n",
       "      <th>actor_2_facebook_likes</th>\n",
       "      <td>0.083808</td>\n",
       "    </tr>\n",
       "    <tr>\n",
       "      <th>actor_1_facebook_likes</th>\n",
       "      <td>0.076099</td>\n",
       "    </tr>\n",
       "    <tr>\n",
       "      <th>aspect_ratio</th>\n",
       "      <td>0.059445</td>\n",
       "    </tr>\n",
       "    <tr>\n",
       "      <th>actor_3_facebook_likes</th>\n",
       "      <td>0.052633</td>\n",
       "    </tr>\n",
       "    <tr>\n",
       "      <th>budget</th>\n",
       "      <td>0.030688</td>\n",
       "    </tr>\n",
       "    <tr>\n",
       "      <th>facenumber_in_poster</th>\n",
       "      <td>-0.062958</td>\n",
       "    </tr>\n",
       "    <tr>\n",
       "      <th>title_year</th>\n",
       "      <td>-0.209167</td>\n",
       "    </tr>\n",
       "  </tbody>\n",
       "</table>\n",
       "</div>"
      ],
      "text/plain": [
       "                           imdb_score\n",
       "num_voted_users              0.410965\n",
       "num_critic_for_reviews       0.305303\n",
       "num_user_for_reviews         0.292475\n",
       "duration                     0.261662\n",
       "movie_facebook_likes         0.247049\n",
       "gross                        0.198021\n",
       "director_facebook_likes      0.170802\n",
       "cast_total_facebook_likes    0.085787\n",
       "actor_2_facebook_likes       0.083808\n",
       "actor_1_facebook_likes       0.076099\n",
       "aspect_ratio                 0.059445\n",
       "actor_3_facebook_likes       0.052633\n",
       "budget                       0.030688\n",
       "facenumber_in_poster        -0.062958\n",
       "title_year                  -0.209167"
      ]
     },
     "execution_count": 2,
     "metadata": {},
     "output_type": "execute_result"
    }
   ],
   "source": [
    "#list of highly correlated variables to imdb score\n",
    "corr = pd.DataFrame(df.corr()['imdb_score'].drop('imdb_score'))\n",
    "corr.sort_values(['imdb_score'], ascending = False)"
   ]
  },
  {
   "cell_type": "markdown",
   "metadata": {},
   "source": [
    "    The highly correlated to imdb_score are:\n",
    "        num_voted_user\n",
    "        num_critic_for_reviews\n",
    "        num_user_for_reviews\n",
    "        duration"
   ]
  },
  {
   "cell_type": "markdown",
   "metadata": {},
   "source": [
    "# 2. Data understanding"
   ]
  },
  {
   "cell_type": "code",
   "execution_count": 3,
   "metadata": {},
   "outputs": [
    {
     "data": {
      "text/html": [
       "<div>\n",
       "<style scoped>\n",
       "    .dataframe tbody tr th:only-of-type {\n",
       "        vertical-align: middle;\n",
       "    }\n",
       "\n",
       "    .dataframe tbody tr th {\n",
       "        vertical-align: top;\n",
       "    }\n",
       "\n",
       "    .dataframe thead th {\n",
       "        text-align: right;\n",
       "    }\n",
       "</style>\n",
       "<table border=\"1\" class=\"dataframe\">\n",
       "  <thead>\n",
       "    <tr style=\"text-align: right;\">\n",
       "      <th></th>\n",
       "      <th>color</th>\n",
       "      <th>director_name</th>\n",
       "      <th>num_critic_for_reviews</th>\n",
       "      <th>duration</th>\n",
       "      <th>director_facebook_likes</th>\n",
       "      <th>actor_3_facebook_likes</th>\n",
       "      <th>actor_2_name</th>\n",
       "      <th>actor_1_facebook_likes</th>\n",
       "      <th>gross</th>\n",
       "      <th>genres</th>\n",
       "      <th>...</th>\n",
       "      <th>num_user_for_reviews</th>\n",
       "      <th>language</th>\n",
       "      <th>country</th>\n",
       "      <th>content_rating</th>\n",
       "      <th>budget</th>\n",
       "      <th>title_year</th>\n",
       "      <th>actor_2_facebook_likes</th>\n",
       "      <th>imdb_score</th>\n",
       "      <th>aspect_ratio</th>\n",
       "      <th>movie_facebook_likes</th>\n",
       "    </tr>\n",
       "  </thead>\n",
       "  <tbody>\n",
       "    <tr>\n",
       "      <th>0</th>\n",
       "      <td>Color</td>\n",
       "      <td>James Cameron</td>\n",
       "      <td>723.0</td>\n",
       "      <td>178.0</td>\n",
       "      <td>0.0</td>\n",
       "      <td>855.0</td>\n",
       "      <td>Joel David Moore</td>\n",
       "      <td>1000.0</td>\n",
       "      <td>760505847.0</td>\n",
       "      <td>Action|Adventure|Fantasy|Sci-Fi</td>\n",
       "      <td>...</td>\n",
       "      <td>3054.0</td>\n",
       "      <td>English</td>\n",
       "      <td>USA</td>\n",
       "      <td>PG-13</td>\n",
       "      <td>237000000.0</td>\n",
       "      <td>2009.0</td>\n",
       "      <td>936.0</td>\n",
       "      <td>7.9</td>\n",
       "      <td>1.78</td>\n",
       "      <td>33000</td>\n",
       "    </tr>\n",
       "    <tr>\n",
       "      <th>1</th>\n",
       "      <td>Color</td>\n",
       "      <td>Gore Verbinski</td>\n",
       "      <td>302.0</td>\n",
       "      <td>169.0</td>\n",
       "      <td>563.0</td>\n",
       "      <td>1000.0</td>\n",
       "      <td>Orlando Bloom</td>\n",
       "      <td>40000.0</td>\n",
       "      <td>309404152.0</td>\n",
       "      <td>Action|Adventure|Fantasy</td>\n",
       "      <td>...</td>\n",
       "      <td>1238.0</td>\n",
       "      <td>English</td>\n",
       "      <td>USA</td>\n",
       "      <td>PG-13</td>\n",
       "      <td>300000000.0</td>\n",
       "      <td>2007.0</td>\n",
       "      <td>5000.0</td>\n",
       "      <td>7.1</td>\n",
       "      <td>2.35</td>\n",
       "      <td>0</td>\n",
       "    </tr>\n",
       "    <tr>\n",
       "      <th>2</th>\n",
       "      <td>Color</td>\n",
       "      <td>Sam Mendes</td>\n",
       "      <td>602.0</td>\n",
       "      <td>148.0</td>\n",
       "      <td>0.0</td>\n",
       "      <td>161.0</td>\n",
       "      <td>Rory Kinnear</td>\n",
       "      <td>11000.0</td>\n",
       "      <td>200074175.0</td>\n",
       "      <td>Action|Adventure|Thriller</td>\n",
       "      <td>...</td>\n",
       "      <td>994.0</td>\n",
       "      <td>English</td>\n",
       "      <td>UK</td>\n",
       "      <td>PG-13</td>\n",
       "      <td>245000000.0</td>\n",
       "      <td>2015.0</td>\n",
       "      <td>393.0</td>\n",
       "      <td>6.8</td>\n",
       "      <td>2.35</td>\n",
       "      <td>85000</td>\n",
       "    </tr>\n",
       "    <tr>\n",
       "      <th>3</th>\n",
       "      <td>Color</td>\n",
       "      <td>Christopher Nolan</td>\n",
       "      <td>813.0</td>\n",
       "      <td>164.0</td>\n",
       "      <td>22000.0</td>\n",
       "      <td>23000.0</td>\n",
       "      <td>Christian Bale</td>\n",
       "      <td>27000.0</td>\n",
       "      <td>448130642.0</td>\n",
       "      <td>Action|Thriller</td>\n",
       "      <td>...</td>\n",
       "      <td>2701.0</td>\n",
       "      <td>English</td>\n",
       "      <td>USA</td>\n",
       "      <td>PG-13</td>\n",
       "      <td>250000000.0</td>\n",
       "      <td>2012.0</td>\n",
       "      <td>23000.0</td>\n",
       "      <td>8.5</td>\n",
       "      <td>2.35</td>\n",
       "      <td>164000</td>\n",
       "    </tr>\n",
       "    <tr>\n",
       "      <th>4</th>\n",
       "      <td>NaN</td>\n",
       "      <td>Doug Walker</td>\n",
       "      <td>NaN</td>\n",
       "      <td>NaN</td>\n",
       "      <td>131.0</td>\n",
       "      <td>NaN</td>\n",
       "      <td>Rob Walker</td>\n",
       "      <td>131.0</td>\n",
       "      <td>NaN</td>\n",
       "      <td>Documentary</td>\n",
       "      <td>...</td>\n",
       "      <td>NaN</td>\n",
       "      <td>NaN</td>\n",
       "      <td>NaN</td>\n",
       "      <td>NaN</td>\n",
       "      <td>NaN</td>\n",
       "      <td>NaN</td>\n",
       "      <td>12.0</td>\n",
       "      <td>7.1</td>\n",
       "      <td>NaN</td>\n",
       "      <td>0</td>\n",
       "    </tr>\n",
       "  </tbody>\n",
       "</table>\n",
       "<p>5 rows × 28 columns</p>\n",
       "</div>"
      ],
      "text/plain": [
       "   color      director_name  num_critic_for_reviews  duration  \\\n",
       "0  Color      James Cameron                   723.0     178.0   \n",
       "1  Color     Gore Verbinski                   302.0     169.0   \n",
       "2  Color         Sam Mendes                   602.0     148.0   \n",
       "3  Color  Christopher Nolan                   813.0     164.0   \n",
       "4    NaN        Doug Walker                     NaN       NaN   \n",
       "\n",
       "   director_facebook_likes  actor_3_facebook_likes      actor_2_name  \\\n",
       "0                      0.0                   855.0  Joel David Moore   \n",
       "1                    563.0                  1000.0     Orlando Bloom   \n",
       "2                      0.0                   161.0      Rory Kinnear   \n",
       "3                  22000.0                 23000.0    Christian Bale   \n",
       "4                    131.0                     NaN        Rob Walker   \n",
       "\n",
       "   actor_1_facebook_likes        gross                           genres  \\\n",
       "0                  1000.0  760505847.0  Action|Adventure|Fantasy|Sci-Fi   \n",
       "1                 40000.0  309404152.0         Action|Adventure|Fantasy   \n",
       "2                 11000.0  200074175.0        Action|Adventure|Thriller   \n",
       "3                 27000.0  448130642.0                  Action|Thriller   \n",
       "4                   131.0          NaN                      Documentary   \n",
       "\n",
       "          ...          num_user_for_reviews language  country  content_rating  \\\n",
       "0         ...                        3054.0  English      USA           PG-13   \n",
       "1         ...                        1238.0  English      USA           PG-13   \n",
       "2         ...                         994.0  English       UK           PG-13   \n",
       "3         ...                        2701.0  English      USA           PG-13   \n",
       "4         ...                           NaN      NaN      NaN             NaN   \n",
       "\n",
       "        budget  title_year actor_2_facebook_likes imdb_score  aspect_ratio  \\\n",
       "0  237000000.0      2009.0                  936.0        7.9          1.78   \n",
       "1  300000000.0      2007.0                 5000.0        7.1          2.35   \n",
       "2  245000000.0      2015.0                  393.0        6.8          2.35   \n",
       "3  250000000.0      2012.0                23000.0        8.5          2.35   \n",
       "4          NaN         NaN                   12.0        7.1           NaN   \n",
       "\n",
       "  movie_facebook_likes  \n",
       "0                33000  \n",
       "1                    0  \n",
       "2                85000  \n",
       "3               164000  \n",
       "4                    0  \n",
       "\n",
       "[5 rows x 28 columns]"
      ]
     },
     "execution_count": 3,
     "metadata": {},
     "output_type": "execute_result"
    }
   ],
   "source": [
    "#import libraries and read data\n",
    "import pandas as pd\n",
    "import seaborn as sns\n",
    "import matplotlib.pyplot as plt\n",
    "df = pd.read_csv(\"data/movie_metadata.csv\")\n",
    "df.head()"
   ]
  },
  {
   "cell_type": "markdown",
   "metadata": {},
   "source": [
    "#### Describe data\n",
    "The initial dataset to be used will be collected from IMDb.It will consist of movies that were released from year 1916 to 2016. For each film I can see direct name, duration, country, language, movie type and other movie characteristics\n",
    "\n",
    "    - movie can be black and white or colorfull\n",
    "    - duration movie average is 107 minutes\n",
    "    - the highest number of likes on the facebbook platform has Joseph Gordon-Levitt\n",
    "    - John Blanchard has the best imdb_score\n",
    "    - Steven Spielberg is the most common movie director in dataset\n",
    "    - the most popular actor is Robert De Niro\n",
    "    - the actor with the higher number of likes on the Facebook is Darcy Donavan\n",
    "    - the most popular movies are produced in USA"
   ]
  },
  {
   "cell_type": "code",
   "execution_count": 4,
   "metadata": {},
   "outputs": [
    {
     "data": {
      "text/plain": [
       "2016.0"
      ]
     },
     "execution_count": 4,
     "metadata": {},
     "output_type": "execute_result"
    }
   ],
   "source": [
    "#the last year in dataset\n",
    "df['title_year'].max()"
   ]
  },
  {
   "cell_type": "code",
   "execution_count": 5,
   "metadata": {},
   "outputs": [
    {
     "data": {
      "text/plain": [
       "1916.0"
      ]
     },
     "execution_count": 5,
     "metadata": {},
     "output_type": "execute_result"
    }
   ],
   "source": [
    "#the first year in dataset\n",
    "df['title_year'].min()"
   ]
  },
  {
   "cell_type": "code",
   "execution_count": 6,
   "metadata": {},
   "outputs": [
    {
     "data": {
      "text/plain": [
       "array(['Color', nan, ' Black and White'], dtype=object)"
      ]
     },
     "execution_count": 6,
     "metadata": {},
     "output_type": "execute_result"
    }
   ],
   "source": [
    "#unique values in color column\n",
    "df['color'].unique()"
   ]
  },
  {
   "cell_type": "code",
   "execution_count": 7,
   "metadata": {},
   "outputs": [
    {
     "data": {
      "text/plain": [
       "107.2010739856802"
      ]
     },
     "execution_count": 7,
     "metadata": {},
     "output_type": "execute_result"
    }
   ],
   "source": [
    "#the average of movie duration\n",
    "df['duration'].mean()"
   ]
  },
  {
   "cell_type": "code",
   "execution_count": 8,
   "metadata": {},
   "outputs": [
    {
     "data": {
      "text/plain": [
       "director_name\n",
       "Joseph Gordon-Levitt    23000.0\n",
       "Christopher Nolan       22000.0\n",
       "David Fincher           21000.0\n",
       "Name: director_facebook_likes, dtype: float64"
      ]
     },
     "execution_count": 8,
     "metadata": {},
     "output_type": "execute_result"
    }
   ],
   "source": [
    "#the best director in terms of facebook likes\n",
    "df.groupby('director_name')['director_facebook_likes'].max().sort_values(ascending=False).head(3)"
   ]
  },
  {
   "cell_type": "code",
   "execution_count": 9,
   "metadata": {},
   "outputs": [
    {
     "data": {
      "text/plain": [
       "director_name\n",
       "John Blanchard      9.5\n",
       "Sadyk Sher-Niyaz    8.7\n",
       "Mitchell Altieri    8.7\n",
       "Name: imdb_score, dtype: float64"
      ]
     },
     "execution_count": 9,
     "metadata": {},
     "output_type": "execute_result"
    }
   ],
   "source": [
    "#the best director in terms of imdb score\n",
    "df.groupby('director_name')['imdb_score'].mean().sort_values(ascending=False).head(3)"
   ]
  },
  {
   "cell_type": "code",
   "execution_count": 10,
   "metadata": {},
   "outputs": [
    {
     "data": {
      "text/plain": [
       "director_name\n",
       "Steven Spielberg    26\n",
       "Woody Allen         22\n",
       "Martin Scorsese     20\n",
       "dtype: int64"
      ]
     },
     "execution_count": 10,
     "metadata": {},
     "output_type": "execute_result"
    }
   ],
   "source": [
    "#director with the highest number of movies\n",
    "df.groupby('director_name').size().sort_values(ascending=False).head(3)"
   ]
  },
  {
   "cell_type": "code",
   "execution_count": 11,
   "metadata": {},
   "outputs": [
    {
     "data": {
      "text/plain": [
       "actor_1_name\n",
       "Robert De Niro    49\n",
       "Johnny Depp       41\n",
       "Nicolas Cage      33\n",
       "dtype: int64"
      ]
     },
     "execution_count": 11,
     "metadata": {},
     "output_type": "execute_result"
    }
   ],
   "source": [
    "#actor who played in the most movie\n",
    "df.groupby('actor_1_name').size().sort_values(ascending=False).head(3)"
   ]
  },
  {
   "cell_type": "code",
   "execution_count": 12,
   "metadata": {},
   "outputs": [
    {
     "data": {
      "text/plain": [
       "actor_1_name\n",
       "Darcy Donavan    640000.0\n",
       "Matthew Ziff     260000.0\n",
       "Krista Allen     164000.0\n",
       "Name: actor_1_facebook_likes, dtype: float64"
      ]
     },
     "execution_count": 12,
     "metadata": {},
     "output_type": "execute_result"
    }
   ],
   "source": [
    "#actor who has the most like on the facebook\n",
    "df.groupby('actor_1_name')['actor_1_facebook_likes'].max().sort_values(ascending=False).head(3)"
   ]
  },
  {
   "cell_type": "code",
   "execution_count": 13,
   "metadata": {},
   "outputs": [
    {
     "data": {
      "text/plain": [
       "actor_1_name\n",
       "Martin Short      9.5\n",
       "Morgan Freeman    9.3\n",
       "Al Pacino         9.2\n",
       "Name: imdb_score, dtype: float64"
      ]
     },
     "execution_count": 13,
     "metadata": {},
     "output_type": "execute_result"
    }
   ],
   "source": [
    "df.groupby('actor_1_name')['imdb_score'].max().sort_values(ascending=False).head(3)"
   ]
  },
  {
   "cell_type": "code",
   "execution_count": 14,
   "metadata": {},
   "outputs": [
    {
     "data": {
      "text/plain": [
       "movie_title\n",
       "Halloween                    3\n",
       "King Kong                    3\n",
       "The Fast and the Furious     3\n",
       "dtype: int64"
      ]
     },
     "execution_count": 14,
     "metadata": {},
     "output_type": "execute_result"
    }
   ],
   "source": [
    "df.groupby('movie_title').size().sort_values(ascending=False).head(3)"
   ]
  },
  {
   "cell_type": "code",
   "execution_count": 15,
   "metadata": {},
   "outputs": [
    {
     "data": {
      "text/plain": [
       "movie_title\n",
       "Towering Inferno                 9.5\n",
       "The Shawshank Redemption         9.3\n",
       "The Godfather                    9.2\n",
       "Name: imdb_score, dtype: float64"
      ]
     },
     "execution_count": 15,
     "metadata": {},
     "output_type": "execute_result"
    }
   ],
   "source": [
    "df.groupby('movie_title')['imdb_score'].max().sort_values(ascending=False).head(3)"
   ]
  },
  {
   "cell_type": "code",
   "execution_count": 16,
   "metadata": {},
   "outputs": [
    {
     "data": {
      "text/plain": [
       "movie_title\n",
       "Interstellar                           349000\n",
       "Django Unchained                       199000\n",
       "Batman v Superman: Dawn of Justice     197000\n",
       "Name: movie_facebook_likes, dtype: int64"
      ]
     },
     "execution_count": 16,
     "metadata": {},
     "output_type": "execute_result"
    }
   ],
   "source": [
    "df.groupby('movie_title')['movie_facebook_likes'].max().sort_values(ascending=False).head(3)"
   ]
  },
  {
   "cell_type": "code",
   "execution_count": 17,
   "metadata": {},
   "outputs": [
    {
     "data": {
      "text/plain": [
       "language\n",
       "English    4704\n",
       "French       73\n",
       "Spanish      40\n",
       "dtype: int64"
      ]
     },
     "execution_count": 17,
     "metadata": {},
     "output_type": "execute_result"
    }
   ],
   "source": [
    "#the most common movie language \n",
    "df.groupby('language').size().sort_values(ascending=False).head(3)"
   ]
  },
  {
   "cell_type": "code",
   "execution_count": 18,
   "metadata": {},
   "outputs": [
    {
     "data": {
      "text/plain": [
       "country\n",
       "USA       3807\n",
       "UK         448\n",
       "France     154\n",
       "dtype: int64"
      ]
     },
     "execution_count": 18,
     "metadata": {},
     "output_type": "execute_result"
    }
   ],
   "source": [
    "#the most common country\n",
    "df.groupby('country', sort=False).size().sort_values(ascending=False).head(3)"
   ]
  },
  {
   "cell_type": "markdown",
   "metadata": {},
   "source": [
    "#### Identify data quality issues\n",
    "Data set consists 28 different data information about 5043 movies. Dataset contains also data which we do not need for our analyze eg. movie_title, color, movie_imdb_link, color. These columns will be deleted. Data set also contains lots of missing values. All data with missing values will be deleted."
   ]
  },
  {
   "cell_type": "code",
   "execution_count": 19,
   "metadata": {},
   "outputs": [
    {
     "data": {
      "text/plain": [
       "(5043, 28)"
      ]
     },
     "execution_count": 19,
     "metadata": {},
     "output_type": "execute_result"
    }
   ],
   "source": [
    "#show how many rows and columns are in dataset\n",
    "df.shape"
   ]
  },
  {
   "cell_type": "code",
   "execution_count": 20,
   "metadata": {},
   "outputs": [
    {
     "data": {
      "text/plain": [
       "Index([u'color', u'director_name', u'num_critic_for_reviews', u'duration',\n",
       "       u'director_facebook_likes', u'actor_3_facebook_likes', u'actor_2_name',\n",
       "       u'actor_1_facebook_likes', u'gross', u'genres', u'actor_1_name',\n",
       "       u'movie_title', u'num_voted_users', u'cast_total_facebook_likes',\n",
       "       u'actor_3_name', u'facenumber_in_poster', u'plot_keywords',\n",
       "       u'movie_imdb_link', u'num_user_for_reviews', u'language', u'country',\n",
       "       u'content_rating', u'budget', u'title_year', u'actor_2_facebook_likes',\n",
       "       u'imdb_score', u'aspect_ratio', u'movie_facebook_likes'],\n",
       "      dtype='object')"
      ]
     },
     "execution_count": 20,
     "metadata": {},
     "output_type": "execute_result"
    }
   ],
   "source": [
    "#show the column names\n",
    "df.columns"
   ]
  },
  {
   "cell_type": "code",
   "execution_count": 21,
   "metadata": {},
   "outputs": [
    {
     "data": {
      "text/plain": [
       "color                         19\n",
       "director_name                104\n",
       "num_critic_for_reviews        50\n",
       "duration                      15\n",
       "director_facebook_likes      104\n",
       "actor_3_facebook_likes        23\n",
       "actor_2_name                  13\n",
       "actor_1_facebook_likes         7\n",
       "gross                        884\n",
       "genres                         0\n",
       "actor_1_name                   7\n",
       "movie_title                    0\n",
       "num_voted_users                0\n",
       "cast_total_facebook_likes      0\n",
       "actor_3_name                  23\n",
       "facenumber_in_poster          13\n",
       "plot_keywords                153\n",
       "movie_imdb_link                0\n",
       "num_user_for_reviews          21\n",
       "language                      12\n",
       "country                        5\n",
       "content_rating               303\n",
       "budget                       492\n",
       "title_year                   108\n",
       "actor_2_facebook_likes        13\n",
       "imdb_score                     0\n",
       "aspect_ratio                 329\n",
       "movie_facebook_likes           0\n",
       "dtype: int64"
      ]
     },
     "execution_count": 21,
     "metadata": {},
     "output_type": "execute_result"
    }
   ],
   "source": [
    "#show how many missing values are in dataset\n",
    "df.isnull().sum()"
   ]
  },
  {
   "cell_type": "markdown",
   "metadata": {},
   "source": [
    "#### Identify data types\n",
    "Dataset contain numerical and also non-numerical values."
   ]
  },
  {
   "cell_type": "code",
   "execution_count": 22,
   "metadata": {},
   "outputs": [
    {
     "name": "stdout",
     "output_type": "stream",
     "text": [
      "<class 'pandas.core.frame.DataFrame'>\n",
      "RangeIndex: 5043 entries, 0 to 5042\n",
      "Data columns (total 28 columns):\n",
      "color                        5024 non-null object\n",
      "director_name                4939 non-null object\n",
      "num_critic_for_reviews       4993 non-null float64\n",
      "duration                     5028 non-null float64\n",
      "director_facebook_likes      4939 non-null float64\n",
      "actor_3_facebook_likes       5020 non-null float64\n",
      "actor_2_name                 5030 non-null object\n",
      "actor_1_facebook_likes       5036 non-null float64\n",
      "gross                        4159 non-null float64\n",
      "genres                       5043 non-null object\n",
      "actor_1_name                 5036 non-null object\n",
      "movie_title                  5043 non-null object\n",
      "num_voted_users              5043 non-null int64\n",
      "cast_total_facebook_likes    5043 non-null int64\n",
      "actor_3_name                 5020 non-null object\n",
      "facenumber_in_poster         5030 non-null float64\n",
      "plot_keywords                4890 non-null object\n",
      "movie_imdb_link              5043 non-null object\n",
      "num_user_for_reviews         5022 non-null float64\n",
      "language                     5031 non-null object\n",
      "country                      5038 non-null object\n",
      "content_rating               4740 non-null object\n",
      "budget                       4551 non-null float64\n",
      "title_year                   4935 non-null float64\n",
      "actor_2_facebook_likes       5030 non-null float64\n",
      "imdb_score                   5043 non-null float64\n",
      "aspect_ratio                 4714 non-null float64\n",
      "movie_facebook_likes         5043 non-null int64\n",
      "dtypes: float64(13), int64(3), object(12)\n",
      "memory usage: 1.1+ MB\n"
     ]
    }
   ],
   "source": [
    "#show all columns with their type\n",
    "df.info()"
   ]
  },
  {
   "cell_type": "markdown",
   "metadata": {},
   "source": [
    "# 3. Data preparation"
   ]
  },
  {
   "cell_type": "markdown",
   "metadata": {},
   "source": [
    "The data we obtained are highly susceptible to noisy,missing and inconsistent data due to the huge size and theirlikely origin from multiple, heterogeneous sources [2]. Wemainly used IMDb and Rotten Tomatoes and Wikipedia. Themain problem with datasets was missing ﬁelds. To overcomethis missing ﬁeld problem we adopted a method which usesa measure of central tendency for the attribute. We used bothmean and median as central tendency. Then removed duplicateitems. \n",
    "\n",
    "(PDF) Predicting Movie Success Based on IMDB Data. Available from: https://www.researchgate.net/publication/282133920_Predicting_Movie_Success_Based_on_IMDB_Data [accessed Oct 10 2018]."
   ]
  },
  {
   "cell_type": "code",
   "execution_count": 23,
   "metadata": {},
   "outputs": [
    {
     "data": {
      "text/html": [
       "<div>\n",
       "<style scoped>\n",
       "    .dataframe tbody tr th:only-of-type {\n",
       "        vertical-align: middle;\n",
       "    }\n",
       "\n",
       "    .dataframe tbody tr th {\n",
       "        vertical-align: top;\n",
       "    }\n",
       "\n",
       "    .dataframe thead th {\n",
       "        text-align: right;\n",
       "    }\n",
       "</style>\n",
       "<table border=\"1\" class=\"dataframe\">\n",
       "  <thead>\n",
       "    <tr style=\"text-align: right;\">\n",
       "      <th></th>\n",
       "      <th>director_name</th>\n",
       "      <th>num_critic_for_reviews</th>\n",
       "      <th>duration</th>\n",
       "      <th>director_facebook_likes</th>\n",
       "      <th>actor_1_facebook_likes</th>\n",
       "      <th>gross</th>\n",
       "      <th>genres</th>\n",
       "      <th>actor_1_name</th>\n",
       "      <th>num_voted_users</th>\n",
       "      <th>cast_total_facebook_likes</th>\n",
       "      <th>facenumber_in_poster</th>\n",
       "      <th>num_user_for_reviews</th>\n",
       "      <th>language</th>\n",
       "      <th>country</th>\n",
       "      <th>budget</th>\n",
       "      <th>title_year</th>\n",
       "      <th>imdb_score</th>\n",
       "      <th>aspect_ratio</th>\n",
       "      <th>movie_facebook_likes</th>\n",
       "    </tr>\n",
       "  </thead>\n",
       "  <tbody>\n",
       "    <tr>\n",
       "      <th>0</th>\n",
       "      <td>James Cameron</td>\n",
       "      <td>723.0</td>\n",
       "      <td>178.0</td>\n",
       "      <td>0.0</td>\n",
       "      <td>1000.0</td>\n",
       "      <td>760505847.0</td>\n",
       "      <td>Action|Adventure|Fantasy|Sci-Fi</td>\n",
       "      <td>CCH Pounder</td>\n",
       "      <td>886204</td>\n",
       "      <td>4834</td>\n",
       "      <td>0.0</td>\n",
       "      <td>3054.0</td>\n",
       "      <td>English</td>\n",
       "      <td>USA</td>\n",
       "      <td>237000000.0</td>\n",
       "      <td>2009.0</td>\n",
       "      <td>7.9</td>\n",
       "      <td>1.78</td>\n",
       "      <td>33000</td>\n",
       "    </tr>\n",
       "    <tr>\n",
       "      <th>1</th>\n",
       "      <td>Gore Verbinski</td>\n",
       "      <td>302.0</td>\n",
       "      <td>169.0</td>\n",
       "      <td>563.0</td>\n",
       "      <td>40000.0</td>\n",
       "      <td>309404152.0</td>\n",
       "      <td>Action|Adventure|Fantasy</td>\n",
       "      <td>Johnny Depp</td>\n",
       "      <td>471220</td>\n",
       "      <td>48350</td>\n",
       "      <td>0.0</td>\n",
       "      <td>1238.0</td>\n",
       "      <td>English</td>\n",
       "      <td>USA</td>\n",
       "      <td>300000000.0</td>\n",
       "      <td>2007.0</td>\n",
       "      <td>7.1</td>\n",
       "      <td>2.35</td>\n",
       "      <td>0</td>\n",
       "    </tr>\n",
       "    <tr>\n",
       "      <th>2</th>\n",
       "      <td>Sam Mendes</td>\n",
       "      <td>602.0</td>\n",
       "      <td>148.0</td>\n",
       "      <td>0.0</td>\n",
       "      <td>11000.0</td>\n",
       "      <td>200074175.0</td>\n",
       "      <td>Action|Adventure|Thriller</td>\n",
       "      <td>Christoph Waltz</td>\n",
       "      <td>275868</td>\n",
       "      <td>11700</td>\n",
       "      <td>1.0</td>\n",
       "      <td>994.0</td>\n",
       "      <td>English</td>\n",
       "      <td>UK</td>\n",
       "      <td>245000000.0</td>\n",
       "      <td>2015.0</td>\n",
       "      <td>6.8</td>\n",
       "      <td>2.35</td>\n",
       "      <td>85000</td>\n",
       "    </tr>\n",
       "    <tr>\n",
       "      <th>3</th>\n",
       "      <td>Christopher Nolan</td>\n",
       "      <td>813.0</td>\n",
       "      <td>164.0</td>\n",
       "      <td>22000.0</td>\n",
       "      <td>27000.0</td>\n",
       "      <td>448130642.0</td>\n",
       "      <td>Action|Thriller</td>\n",
       "      <td>Tom Hardy</td>\n",
       "      <td>1144337</td>\n",
       "      <td>106759</td>\n",
       "      <td>0.0</td>\n",
       "      <td>2701.0</td>\n",
       "      <td>English</td>\n",
       "      <td>USA</td>\n",
       "      <td>250000000.0</td>\n",
       "      <td>2012.0</td>\n",
       "      <td>8.5</td>\n",
       "      <td>2.35</td>\n",
       "      <td>164000</td>\n",
       "    </tr>\n",
       "    <tr>\n",
       "      <th>4</th>\n",
       "      <td>Doug Walker</td>\n",
       "      <td>NaN</td>\n",
       "      <td>NaN</td>\n",
       "      <td>131.0</td>\n",
       "      <td>131.0</td>\n",
       "      <td>NaN</td>\n",
       "      <td>Documentary</td>\n",
       "      <td>Doug Walker</td>\n",
       "      <td>8</td>\n",
       "      <td>143</td>\n",
       "      <td>0.0</td>\n",
       "      <td>NaN</td>\n",
       "      <td>NaN</td>\n",
       "      <td>NaN</td>\n",
       "      <td>NaN</td>\n",
       "      <td>NaN</td>\n",
       "      <td>7.1</td>\n",
       "      <td>NaN</td>\n",
       "      <td>0</td>\n",
       "    </tr>\n",
       "  </tbody>\n",
       "</table>\n",
       "</div>"
      ],
      "text/plain": [
       "       director_name  num_critic_for_reviews  duration  \\\n",
       "0      James Cameron                   723.0     178.0   \n",
       "1     Gore Verbinski                   302.0     169.0   \n",
       "2         Sam Mendes                   602.0     148.0   \n",
       "3  Christopher Nolan                   813.0     164.0   \n",
       "4        Doug Walker                     NaN       NaN   \n",
       "\n",
       "   director_facebook_likes  actor_1_facebook_likes        gross  \\\n",
       "0                      0.0                  1000.0  760505847.0   \n",
       "1                    563.0                 40000.0  309404152.0   \n",
       "2                      0.0                 11000.0  200074175.0   \n",
       "3                  22000.0                 27000.0  448130642.0   \n",
       "4                    131.0                   131.0          NaN   \n",
       "\n",
       "                            genres     actor_1_name  num_voted_users  \\\n",
       "0  Action|Adventure|Fantasy|Sci-Fi      CCH Pounder           886204   \n",
       "1         Action|Adventure|Fantasy      Johnny Depp           471220   \n",
       "2        Action|Adventure|Thriller  Christoph Waltz           275868   \n",
       "3                  Action|Thriller        Tom Hardy          1144337   \n",
       "4                      Documentary      Doug Walker                8   \n",
       "\n",
       "   cast_total_facebook_likes  facenumber_in_poster  num_user_for_reviews  \\\n",
       "0                       4834                   0.0                3054.0   \n",
       "1                      48350                   0.0                1238.0   \n",
       "2                      11700                   1.0                 994.0   \n",
       "3                     106759                   0.0                2701.0   \n",
       "4                        143                   0.0                   NaN   \n",
       "\n",
       "  language country       budget  title_year  imdb_score  aspect_ratio  \\\n",
       "0  English     USA  237000000.0      2009.0         7.9          1.78   \n",
       "1  English     USA  300000000.0      2007.0         7.1          2.35   \n",
       "2  English      UK  245000000.0      2015.0         6.8          2.35   \n",
       "3  English     USA  250000000.0      2012.0         8.5          2.35   \n",
       "4      NaN     NaN          NaN         NaN         7.1           NaN   \n",
       "\n",
       "   movie_facebook_likes  \n",
       "0                 33000  \n",
       "1                     0  \n",
       "2                 85000  \n",
       "3                164000  \n",
       "4                     0  "
      ]
     },
     "execution_count": 23,
     "metadata": {},
     "output_type": "execute_result"
    }
   ],
   "source": [
    "#remove duplicates rows\n",
    "df.drop_duplicates()\n",
    "#remove unnessary columns\n",
    "data = df.drop(['color','actor_3_facebook_likes','actor_2_name','movie_title','plot_keywords','movie_imdb_link','content_rating','actor_2_facebook_likes','actor_3_name'], axis=1)\n",
    "#display data\n",
    "data.head()"
   ]
  },
  {
   "cell_type": "code",
   "execution_count": 24,
   "metadata": {},
   "outputs": [
    {
     "name": "stdout",
     "output_type": "stream",
     "text": [
      "<class 'pandas.core.frame.DataFrame'>\n",
      "RangeIndex: 5043 entries, 0 to 5042\n",
      "Data columns (total 19 columns):\n",
      "director_name                4939 non-null object\n",
      "num_critic_for_reviews       4993 non-null float64\n",
      "duration                     5028 non-null float64\n",
      "director_facebook_likes      4939 non-null float64\n",
      "actor_1_facebook_likes       5036 non-null float64\n",
      "gross                        4159 non-null float64\n",
      "genres                       5043 non-null object\n",
      "actor_1_name                 5036 non-null object\n",
      "num_voted_users              5043 non-null int64\n",
      "cast_total_facebook_likes    5043 non-null int64\n",
      "facenumber_in_poster         5030 non-null float64\n",
      "num_user_for_reviews         5022 non-null float64\n",
      "language                     5031 non-null object\n",
      "country                      5038 non-null object\n",
      "budget                       4551 non-null float64\n",
      "title_year                   4935 non-null float64\n",
      "imdb_score                   5043 non-null float64\n",
      "aspect_ratio                 4714 non-null float64\n",
      "movie_facebook_likes         5043 non-null int64\n",
      "dtypes: float64(11), int64(3), object(5)\n",
      "memory usage: 748.6+ KB\n"
     ]
    }
   ],
   "source": [
    "data.info()"
   ]
  },
  {
   "cell_type": "code",
   "execution_count": 25,
   "metadata": {},
   "outputs": [
    {
     "data": {
      "text/html": [
       "<div>\n",
       "<style scoped>\n",
       "    .dataframe tbody tr th:only-of-type {\n",
       "        vertical-align: middle;\n",
       "    }\n",
       "\n",
       "    .dataframe tbody tr th {\n",
       "        vertical-align: top;\n",
       "    }\n",
       "\n",
       "    .dataframe thead th {\n",
       "        text-align: right;\n",
       "    }\n",
       "</style>\n",
       "<table border=\"1\" class=\"dataframe\">\n",
       "  <thead>\n",
       "    <tr style=\"text-align: right;\">\n",
       "      <th></th>\n",
       "      <th>num_critic_for_reviews</th>\n",
       "      <th>duration</th>\n",
       "      <th>director_facebook_likes</th>\n",
       "      <th>actor_1_facebook_likes</th>\n",
       "      <th>gross</th>\n",
       "      <th>num_voted_users</th>\n",
       "      <th>cast_total_facebook_likes</th>\n",
       "      <th>facenumber_in_poster</th>\n",
       "      <th>num_user_for_reviews</th>\n",
       "      <th>budget</th>\n",
       "      <th>title_year</th>\n",
       "      <th>imdb_score</th>\n",
       "      <th>aspect_ratio</th>\n",
       "      <th>movie_facebook_likes</th>\n",
       "    </tr>\n",
       "  </thead>\n",
       "  <tbody>\n",
       "    <tr>\n",
       "      <th>count</th>\n",
       "      <td>4993.000000</td>\n",
       "      <td>5028.000000</td>\n",
       "      <td>4939.000000</td>\n",
       "      <td>5036.000000</td>\n",
       "      <td>4.159000e+03</td>\n",
       "      <td>5.043000e+03</td>\n",
       "      <td>5043.000000</td>\n",
       "      <td>5030.000000</td>\n",
       "      <td>5022.000000</td>\n",
       "      <td>4.551000e+03</td>\n",
       "      <td>4935.000000</td>\n",
       "      <td>5043.000000</td>\n",
       "      <td>4714.000000</td>\n",
       "      <td>5043.000000</td>\n",
       "    </tr>\n",
       "    <tr>\n",
       "      <th>mean</th>\n",
       "      <td>140.194272</td>\n",
       "      <td>107.201074</td>\n",
       "      <td>686.509212</td>\n",
       "      <td>6560.047061</td>\n",
       "      <td>4.846841e+07</td>\n",
       "      <td>8.366816e+04</td>\n",
       "      <td>9699.063851</td>\n",
       "      <td>1.371173</td>\n",
       "      <td>272.770808</td>\n",
       "      <td>3.975262e+07</td>\n",
       "      <td>2002.470517</td>\n",
       "      <td>6.442138</td>\n",
       "      <td>2.220403</td>\n",
       "      <td>7525.964505</td>\n",
       "    </tr>\n",
       "    <tr>\n",
       "      <th>std</th>\n",
       "      <td>121.601675</td>\n",
       "      <td>25.197441</td>\n",
       "      <td>2813.328607</td>\n",
       "      <td>15020.759120</td>\n",
       "      <td>6.845299e+07</td>\n",
       "      <td>1.384853e+05</td>\n",
       "      <td>18163.799124</td>\n",
       "      <td>2.013576</td>\n",
       "      <td>377.982886</td>\n",
       "      <td>2.061149e+08</td>\n",
       "      <td>12.474599</td>\n",
       "      <td>1.125116</td>\n",
       "      <td>1.385113</td>\n",
       "      <td>19320.445110</td>\n",
       "    </tr>\n",
       "    <tr>\n",
       "      <th>min</th>\n",
       "      <td>1.000000</td>\n",
       "      <td>7.000000</td>\n",
       "      <td>0.000000</td>\n",
       "      <td>0.000000</td>\n",
       "      <td>1.620000e+02</td>\n",
       "      <td>5.000000e+00</td>\n",
       "      <td>0.000000</td>\n",
       "      <td>0.000000</td>\n",
       "      <td>1.000000</td>\n",
       "      <td>2.180000e+02</td>\n",
       "      <td>1916.000000</td>\n",
       "      <td>1.600000</td>\n",
       "      <td>1.180000</td>\n",
       "      <td>0.000000</td>\n",
       "    </tr>\n",
       "    <tr>\n",
       "      <th>25%</th>\n",
       "      <td>50.000000</td>\n",
       "      <td>93.000000</td>\n",
       "      <td>7.000000</td>\n",
       "      <td>614.000000</td>\n",
       "      <td>5.340988e+06</td>\n",
       "      <td>8.593500e+03</td>\n",
       "      <td>1411.000000</td>\n",
       "      <td>0.000000</td>\n",
       "      <td>65.000000</td>\n",
       "      <td>6.000000e+06</td>\n",
       "      <td>1999.000000</td>\n",
       "      <td>5.800000</td>\n",
       "      <td>1.850000</td>\n",
       "      <td>0.000000</td>\n",
       "    </tr>\n",
       "    <tr>\n",
       "      <th>50%</th>\n",
       "      <td>110.000000</td>\n",
       "      <td>103.000000</td>\n",
       "      <td>49.000000</td>\n",
       "      <td>988.000000</td>\n",
       "      <td>2.551750e+07</td>\n",
       "      <td>3.435900e+04</td>\n",
       "      <td>3090.000000</td>\n",
       "      <td>1.000000</td>\n",
       "      <td>156.000000</td>\n",
       "      <td>2.000000e+07</td>\n",
       "      <td>2005.000000</td>\n",
       "      <td>6.600000</td>\n",
       "      <td>2.350000</td>\n",
       "      <td>166.000000</td>\n",
       "    </tr>\n",
       "    <tr>\n",
       "      <th>75%</th>\n",
       "      <td>195.000000</td>\n",
       "      <td>118.000000</td>\n",
       "      <td>194.500000</td>\n",
       "      <td>11000.000000</td>\n",
       "      <td>6.230944e+07</td>\n",
       "      <td>9.630900e+04</td>\n",
       "      <td>13756.500000</td>\n",
       "      <td>2.000000</td>\n",
       "      <td>326.000000</td>\n",
       "      <td>4.500000e+07</td>\n",
       "      <td>2011.000000</td>\n",
       "      <td>7.200000</td>\n",
       "      <td>2.350000</td>\n",
       "      <td>3000.000000</td>\n",
       "    </tr>\n",
       "    <tr>\n",
       "      <th>max</th>\n",
       "      <td>813.000000</td>\n",
       "      <td>511.000000</td>\n",
       "      <td>23000.000000</td>\n",
       "      <td>640000.000000</td>\n",
       "      <td>7.605058e+08</td>\n",
       "      <td>1.689764e+06</td>\n",
       "      <td>656730.000000</td>\n",
       "      <td>43.000000</td>\n",
       "      <td>5060.000000</td>\n",
       "      <td>1.221550e+10</td>\n",
       "      <td>2016.000000</td>\n",
       "      <td>9.500000</td>\n",
       "      <td>16.000000</td>\n",
       "      <td>349000.000000</td>\n",
       "    </tr>\n",
       "  </tbody>\n",
       "</table>\n",
       "</div>"
      ],
      "text/plain": [
       "       num_critic_for_reviews     duration  director_facebook_likes  \\\n",
       "count             4993.000000  5028.000000              4939.000000   \n",
       "mean               140.194272   107.201074               686.509212   \n",
       "std                121.601675    25.197441              2813.328607   \n",
       "min                  1.000000     7.000000                 0.000000   \n",
       "25%                 50.000000    93.000000                 7.000000   \n",
       "50%                110.000000   103.000000                49.000000   \n",
       "75%                195.000000   118.000000               194.500000   \n",
       "max                813.000000   511.000000             23000.000000   \n",
       "\n",
       "       actor_1_facebook_likes         gross  num_voted_users  \\\n",
       "count             5036.000000  4.159000e+03     5.043000e+03   \n",
       "mean              6560.047061  4.846841e+07     8.366816e+04   \n",
       "std              15020.759120  6.845299e+07     1.384853e+05   \n",
       "min                  0.000000  1.620000e+02     5.000000e+00   \n",
       "25%                614.000000  5.340988e+06     8.593500e+03   \n",
       "50%                988.000000  2.551750e+07     3.435900e+04   \n",
       "75%              11000.000000  6.230944e+07     9.630900e+04   \n",
       "max             640000.000000  7.605058e+08     1.689764e+06   \n",
       "\n",
       "       cast_total_facebook_likes  facenumber_in_poster  num_user_for_reviews  \\\n",
       "count                5043.000000           5030.000000           5022.000000   \n",
       "mean                 9699.063851              1.371173            272.770808   \n",
       "std                 18163.799124              2.013576            377.982886   \n",
       "min                     0.000000              0.000000              1.000000   \n",
       "25%                  1411.000000              0.000000             65.000000   \n",
       "50%                  3090.000000              1.000000            156.000000   \n",
       "75%                 13756.500000              2.000000            326.000000   \n",
       "max                656730.000000             43.000000           5060.000000   \n",
       "\n",
       "             budget   title_year   imdb_score  aspect_ratio  \\\n",
       "count  4.551000e+03  4935.000000  5043.000000   4714.000000   \n",
       "mean   3.975262e+07  2002.470517     6.442138      2.220403   \n",
       "std    2.061149e+08    12.474599     1.125116      1.385113   \n",
       "min    2.180000e+02  1916.000000     1.600000      1.180000   \n",
       "25%    6.000000e+06  1999.000000     5.800000      1.850000   \n",
       "50%    2.000000e+07  2005.000000     6.600000      2.350000   \n",
       "75%    4.500000e+07  2011.000000     7.200000      2.350000   \n",
       "max    1.221550e+10  2016.000000     9.500000     16.000000   \n",
       "\n",
       "       movie_facebook_likes  \n",
       "count           5043.000000  \n",
       "mean            7525.964505  \n",
       "std            19320.445110  \n",
       "min                0.000000  \n",
       "25%                0.000000  \n",
       "50%              166.000000  \n",
       "75%             3000.000000  \n",
       "max           349000.000000  "
      ]
     },
     "execution_count": 25,
     "metadata": {},
     "output_type": "execute_result"
    }
   ],
   "source": [
    "#show basic statistics\n",
    "data.describe()"
   ]
  },
  {
   "cell_type": "markdown",
   "metadata": {},
   "source": [
    "# 4. Business intelligence"
   ]
  },
  {
   "cell_type": "markdown",
   "metadata": {},
   "source": [
    "#### What is the relationship between imdb_score and director facebook likes?"
   ]
  },
  {
   "cell_type": "code",
   "execution_count": 26,
   "metadata": {},
   "outputs": [
    {
     "data": {
      "text/plain": [
       "<matplotlib.axes._subplots.AxesSubplot at 0xc154b00>"
      ]
     },
     "execution_count": 26,
     "metadata": {},
     "output_type": "execute_result"
    },
    {
     "data": {
      "image/png": "[encoded data removed]",
      "text/plain": [
       "<Figure size 432x288 with 1 Axes>"
      ]
     },
     "metadata": {},
     "output_type": "display_data"
    }
   ],
   "source": [
    "data.groupby('director_name')['imdb_score'].mean().sort_values(ascending=False).head(10).plot(kind='bar')"
   ]
  },
  {
   "cell_type": "code",
   "execution_count": 27,
   "metadata": {},
   "outputs": [
    {
     "data": {
      "text/plain": [
       "<matplotlib.axes._subplots.AxesSubplot at 0xce85eb8>"
      ]
     },
     "execution_count": 27,
     "metadata": {},
     "output_type": "execute_result"
    },
    {
     "data": {
      "image/png": "[encoded data removed]",
      "text/plain": [
       "<Figure size 432x288 with 1 Axes>"
      ]
     },
     "metadata": {},
     "output_type": "display_data"
    }
   ],
   "source": [
    "sns.regplot(data.director_facebook_likes, data.imdb_score)"
   ]
  },
  {
   "cell_type": "markdown",
   "metadata": {},
   "source": [
    "From the graph above we can see there is correlation between imdb_score and number of director facebook likes. It means that with the higher director facebook likes (people like director), imdb score is higher."
   ]
  },
  {
   "cell_type": "markdown",
   "metadata": {},
   "source": [
    "#### What si the relationship between imdb_score and number of actor 1 facebook likes?"
   ]
  },
  {
   "cell_type": "code",
   "execution_count": 28,
   "metadata": {},
   "outputs": [
    {
     "data": {
      "text/plain": [
       "<matplotlib.axes._subplots.AxesSubplot at 0xd07c390>"
      ]
     },
     "execution_count": 28,
     "metadata": {},
     "output_type": "execute_result"
    },
    {
     "data": {
      "image/png": "[encoded data removed]",
      "text/plain": [
       "<Figure size 432x288 with 1 Axes>"
      ]
     },
     "metadata": {},
     "output_type": "display_data"
    }
   ],
   "source": [
    "data.groupby('actor_1_name')['imdb_score'].max().sort_values(ascending=False).head(10).plot(kind='bar')"
   ]
  },
  {
   "cell_type": "code",
   "execution_count": 29,
   "metadata": {},
   "outputs": [
    {
     "data": {
      "text/plain": [
       "<matplotlib.axes._subplots.AxesSubplot at 0xd1766d8>"
      ]
     },
     "execution_count": 29,
     "metadata": {},
     "output_type": "execute_result"
    },
    {
     "data": {
      "image/png": "[encoded data removed]",
      "text/plain": [
       "<Figure size 432x288 with 1 Axes>"
      ]
     },
     "metadata": {},
     "output_type": "display_data"
    }
   ],
   "source": [
    "sns.regplot(data.actor_1_facebook_likes, data.imdb_score)"
   ]
  },
  {
   "cell_type": "markdown",
   "metadata": {},
   "source": [
    "From the graph we can see there is small correlation between imdb_score and number of actor 1 facebook like. It means that with the higher actor 1 facebook likes (people like actor 1), imdb score is higher."
   ]
  },
  {
   "cell_type": "markdown",
   "metadata": {},
   "source": [
    "#### What si the relationship between imdb_score and number of voted users?"
   ]
  },
  {
   "cell_type": "code",
   "execution_count": 30,
   "metadata": {},
   "outputs": [
    {
     "name": "stderr",
     "output_type": "stream",
     "text": [
      "C:\\ProgramData\\Anaconda2\\lib\\site-packages\\matplotlib\\axes\\_axes.py:6462: UserWarning: The 'normed' kwarg is deprecated, and has been replaced by the 'density' kwarg.\n",
      "  warnings.warn(\"The 'normed' kwarg is deprecated, and has been \"\n",
      "C:\\ProgramData\\Anaconda2\\lib\\site-packages\\matplotlib\\axes\\_axes.py:6462: UserWarning: The 'normed' kwarg is deprecated, and has been replaced by the 'density' kwarg.\n",
      "  warnings.warn(\"The 'normed' kwarg is deprecated, and has been \"\n"
     ]
    },
    {
     "data": {
      "text/plain": [
       "<seaborn.axisgrid.JointGrid at 0xd3f9320>"
      ]
     },
     "execution_count": 30,
     "metadata": {},
     "output_type": "execute_result"
    },
    {
     "data": {
      "image/png": "[encoded data removed]",
      "text/plain": [
       "<Figure size 432x432 with 3 Axes>"
      ]
     },
     "metadata": {},
     "output_type": "display_data"
    }
   ],
   "source": [
    "sns.jointplot(\"num_voted_users\", \"imdb_score\", data, kind=\"hex\", color=\"#8855AA\")"
   ]
  },
  {
   "cell_type": "code",
   "execution_count": 31,
   "metadata": {},
   "outputs": [
    {
     "data": {
      "text/plain": [
       "<matplotlib.axes._subplots.AxesSubplot at 0xea94e10>"
      ]
     },
     "execution_count": 31,
     "metadata": {},
     "output_type": "execute_result"
    },
    {
     "data": {
      "image/png": "[encoded data removed]",
      "text/plain": [
       "<Figure size 432x288 with 1 Axes>"
      ]
     },
     "metadata": {},
     "output_type": "display_data"
    }
   ],
   "source": [
    "sns.regplot(data.num_voted_users, data.imdb_score)"
   ]
  },
  {
   "cell_type": "markdown",
   "metadata": {},
   "source": [
    "There is strongly relationship between imdb_score and number of voted users. It means that with the higher number of voted users, imdb score is higher."
   ]
  },
  {
   "cell_type": "markdown",
   "metadata": {},
   "source": [
    "#### What si the relationship between imdb_score and number of critic for reviews?"
   ]
  },
  {
   "cell_type": "code",
   "execution_count": 32,
   "metadata": {},
   "outputs": [
    {
     "data": {
      "text/plain": [
       "<matplotlib.axes._subplots.AxesSubplot at 0xed43898>"
      ]
     },
     "execution_count": 32,
     "metadata": {},
     "output_type": "execute_result"
    },
    {
     "data": {
      "image/png": "[encoded data removed]",
      "text/plain": [
       "<Figure size 432x288 with 1 Axes>"
      ]
     },
     "metadata": {},
     "output_type": "display_data"
    }
   ],
   "source": [
    "sns.regplot(data.num_critic_for_reviews, data.imdb_score)"
   ]
  },
  {
   "cell_type": "markdown",
   "metadata": {},
   "source": [
    "There is strongly correlation between imdb_score and number of critic for reviews. It means that with the higher number of critic for reviews, imdb score is higher."
   ]
  },
  {
   "cell_type": "markdown",
   "metadata": {},
   "source": [
    "#### What si the relationship between imdb_score and number of user for reviews?"
   ]
  },
  {
   "cell_type": "code",
   "execution_count": 33,
   "metadata": {},
   "outputs": [
    {
     "data": {
      "text/plain": [
       "<matplotlib.axes._subplots.AxesSubplot at 0xf159f28>"
      ]
     },
     "execution_count": 33,
     "metadata": {},
     "output_type": "execute_result"
    },
    {
     "data": {
      "image/png": "[encoded data removed]",
      "text/plain": [
       "<Figure size 432x288 with 1 Axes>"
      ]
     },
     "metadata": {},
     "output_type": "display_data"
    }
   ],
   "source": [
    "sns.regplot(data.num_user_for_reviews, data.imdb_score)"
   ]
  },
  {
   "cell_type": "markdown",
   "metadata": {},
   "source": [
    "From the graph we can see that with the higher number of user for review, imdb_score is higher as well. There is strong correlation between imdb score and number of users for reviews"
   ]
  },
  {
   "cell_type": "markdown",
   "metadata": {},
   "source": [
    "#### What si the relationship between imdb_score and duration?"
   ]
  },
  {
   "cell_type": "code",
   "execution_count": 34,
   "metadata": {},
   "outputs": [
    {
     "data": {
      "text/plain": [
       "<matplotlib.axes._subplots.AxesSubplot at 0xf30a080>"
      ]
     },
     "execution_count": 34,
     "metadata": {},
     "output_type": "execute_result"
    },
    {
     "data": {
      "image/png": "[encoded data removed]",
      "text/plain": [
       "<Figure size 432x288 with 1 Axes>"
      ]
     },
     "metadata": {},
     "output_type": "display_data"
    }
   ],
   "source": [
    "data.plot('duration', 'imdb_score')"
   ]
  },
  {
   "cell_type": "code",
   "execution_count": 35,
   "metadata": {},
   "outputs": [
    {
     "data": {
      "text/plain": [
       "<matplotlib.axes._subplots.AxesSubplot at 0xf30a390>"
      ]
     },
     "execution_count": 35,
     "metadata": {},
     "output_type": "execute_result"
    },
    {
     "data": {
      "image/png": "[encoded data removed]",
      "text/plain": [
       "<Figure size 432x288 with 1 Axes>"
      ]
     },
     "metadata": {},
     "output_type": "display_data"
    }
   ],
   "source": [
    "sns.regplot(data.duration, data.imdb_score)"
   ]
  },
  {
   "cell_type": "markdown",
   "metadata": {},
   "source": [
    "There is strongly correlation between duration and imdb_score. It means that when we spend more time on creating movie, imdb score is higher."
   ]
  },
  {
   "cell_type": "markdown",
   "metadata": {},
   "source": [
    "# 5. Correlation analysis"
   ]
  },
  {
   "cell_type": "code",
   "execution_count": 36,
   "metadata": {},
   "outputs": [
    {
     "data": {
      "text/html": [
       "<div>\n",
       "<style scoped>\n",
       "    .dataframe tbody tr th:only-of-type {\n",
       "        vertical-align: middle;\n",
       "    }\n",
       "\n",
       "    .dataframe tbody tr th {\n",
       "        vertical-align: top;\n",
       "    }\n",
       "\n",
       "    .dataframe thead th {\n",
       "        text-align: right;\n",
       "    }\n",
       "</style>\n",
       "<table border=\"1\" class=\"dataframe\">\n",
       "  <thead>\n",
       "    <tr style=\"text-align: right;\">\n",
       "      <th></th>\n",
       "      <th>num_critic_for_reviews</th>\n",
       "      <th>duration</th>\n",
       "      <th>director_facebook_likes</th>\n",
       "      <th>actor_1_facebook_likes</th>\n",
       "      <th>gross</th>\n",
       "      <th>num_voted_users</th>\n",
       "      <th>cast_total_facebook_likes</th>\n",
       "      <th>facenumber_in_poster</th>\n",
       "      <th>num_user_for_reviews</th>\n",
       "      <th>budget</th>\n",
       "      <th>title_year</th>\n",
       "      <th>imdb_score</th>\n",
       "      <th>aspect_ratio</th>\n",
       "      <th>movie_facebook_likes</th>\n",
       "    </tr>\n",
       "  </thead>\n",
       "  <tbody>\n",
       "    <tr>\n",
       "      <th>num_critic_for_reviews</th>\n",
       "      <td>1.000000</td>\n",
       "      <td>0.258486</td>\n",
       "      <td>0.180674</td>\n",
       "      <td>0.190016</td>\n",
       "      <td>0.480601</td>\n",
       "      <td>0.624943</td>\n",
       "      <td>0.263203</td>\n",
       "      <td>-0.033897</td>\n",
       "      <td>0.609387</td>\n",
       "      <td>0.119994</td>\n",
       "      <td>0.275707</td>\n",
       "      <td>0.305303</td>\n",
       "      <td>-0.049786</td>\n",
       "      <td>0.683176</td>\n",
       "    </tr>\n",
       "    <tr>\n",
       "      <th>duration</th>\n",
       "      <td>0.258486</td>\n",
       "      <td>1.000000</td>\n",
       "      <td>0.173296</td>\n",
       "      <td>0.088449</td>\n",
       "      <td>0.250298</td>\n",
       "      <td>0.314765</td>\n",
       "      <td>0.123074</td>\n",
       "      <td>0.013469</td>\n",
       "      <td>0.328403</td>\n",
       "      <td>0.074276</td>\n",
       "      <td>-0.135038</td>\n",
       "      <td>0.261662</td>\n",
       "      <td>-0.090071</td>\n",
       "      <td>0.196605</td>\n",
       "    </tr>\n",
       "    <tr>\n",
       "      <th>director_facebook_likes</th>\n",
       "      <td>0.180674</td>\n",
       "      <td>0.173296</td>\n",
       "      <td>1.000000</td>\n",
       "      <td>0.090723</td>\n",
       "      <td>0.144945</td>\n",
       "      <td>0.297057</td>\n",
       "      <td>0.119549</td>\n",
       "      <td>-0.041268</td>\n",
       "      <td>0.221890</td>\n",
       "      <td>0.021090</td>\n",
       "      <td>-0.063820</td>\n",
       "      <td>0.170802</td>\n",
       "      <td>0.001642</td>\n",
       "      <td>0.162048</td>\n",
       "    </tr>\n",
       "    <tr>\n",
       "      <th>actor_1_facebook_likes</th>\n",
       "      <td>0.190016</td>\n",
       "      <td>0.088449</td>\n",
       "      <td>0.090723</td>\n",
       "      <td>1.000000</td>\n",
       "      <td>0.154468</td>\n",
       "      <td>0.192804</td>\n",
       "      <td>0.951661</td>\n",
       "      <td>0.072257</td>\n",
       "      <td>0.145461</td>\n",
       "      <td>0.022639</td>\n",
       "      <td>0.086873</td>\n",
       "      <td>0.076099</td>\n",
       "      <td>-0.020049</td>\n",
       "      <td>0.135348</td>\n",
       "    </tr>\n",
       "    <tr>\n",
       "      <th>gross</th>\n",
       "      <td>0.480601</td>\n",
       "      <td>0.250298</td>\n",
       "      <td>0.144945</td>\n",
       "      <td>0.154468</td>\n",
       "      <td>1.000000</td>\n",
       "      <td>0.637271</td>\n",
       "      <td>0.247400</td>\n",
       "      <td>-0.027755</td>\n",
       "      <td>0.559958</td>\n",
       "      <td>0.102179</td>\n",
       "      <td>0.030886</td>\n",
       "      <td>0.198021</td>\n",
       "      <td>0.069346</td>\n",
       "      <td>0.378082</td>\n",
       "    </tr>\n",
       "    <tr>\n",
       "      <th>num_voted_users</th>\n",
       "      <td>0.624943</td>\n",
       "      <td>0.314765</td>\n",
       "      <td>0.297057</td>\n",
       "      <td>0.192804</td>\n",
       "      <td>0.637271</td>\n",
       "      <td>1.000000</td>\n",
       "      <td>0.265911</td>\n",
       "      <td>-0.026998</td>\n",
       "      <td>0.798406</td>\n",
       "      <td>0.079621</td>\n",
       "      <td>0.007397</td>\n",
       "      <td>0.410965</td>\n",
       "      <td>-0.014761</td>\n",
       "      <td>0.537924</td>\n",
       "    </tr>\n",
       "    <tr>\n",
       "      <th>cast_total_facebook_likes</th>\n",
       "      <td>0.263203</td>\n",
       "      <td>0.123074</td>\n",
       "      <td>0.119549</td>\n",
       "      <td>0.951661</td>\n",
       "      <td>0.247400</td>\n",
       "      <td>0.265911</td>\n",
       "      <td>1.000000</td>\n",
       "      <td>0.091475</td>\n",
       "      <td>0.206923</td>\n",
       "      <td>0.036557</td>\n",
       "      <td>0.109971</td>\n",
       "      <td>0.085787</td>\n",
       "      <td>-0.017885</td>\n",
       "      <td>0.209786</td>\n",
       "    </tr>\n",
       "    <tr>\n",
       "      <th>facenumber_in_poster</th>\n",
       "      <td>-0.033897</td>\n",
       "      <td>0.013469</td>\n",
       "      <td>-0.041268</td>\n",
       "      <td>0.072257</td>\n",
       "      <td>-0.027755</td>\n",
       "      <td>-0.026998</td>\n",
       "      <td>0.091475</td>\n",
       "      <td>1.000000</td>\n",
       "      <td>-0.069018</td>\n",
       "      <td>-0.019559</td>\n",
       "      <td>0.061504</td>\n",
       "      <td>-0.062958</td>\n",
       "      <td>0.013713</td>\n",
       "      <td>0.008918</td>\n",
       "    </tr>\n",
       "    <tr>\n",
       "      <th>num_user_for_reviews</th>\n",
       "      <td>0.609387</td>\n",
       "      <td>0.328403</td>\n",
       "      <td>0.221890</td>\n",
       "      <td>0.145461</td>\n",
       "      <td>0.559958</td>\n",
       "      <td>0.798406</td>\n",
       "      <td>0.206923</td>\n",
       "      <td>-0.069018</td>\n",
       "      <td>1.000000</td>\n",
       "      <td>0.084292</td>\n",
       "      <td>-0.003147</td>\n",
       "      <td>0.292475</td>\n",
       "      <td>-0.024719</td>\n",
       "      <td>0.400594</td>\n",
       "    </tr>\n",
       "    <tr>\n",
       "      <th>budget</th>\n",
       "      <td>0.119994</td>\n",
       "      <td>0.074276</td>\n",
       "      <td>0.021090</td>\n",
       "      <td>0.022639</td>\n",
       "      <td>0.102179</td>\n",
       "      <td>0.079621</td>\n",
       "      <td>0.036557</td>\n",
       "      <td>-0.019559</td>\n",
       "      <td>0.084292</td>\n",
       "      <td>1.000000</td>\n",
       "      <td>0.045726</td>\n",
       "      <td>0.030688</td>\n",
       "      <td>0.006598</td>\n",
       "      <td>0.062039</td>\n",
       "    </tr>\n",
       "    <tr>\n",
       "      <th>title_year</th>\n",
       "      <td>0.275707</td>\n",
       "      <td>-0.135038</td>\n",
       "      <td>-0.063820</td>\n",
       "      <td>0.086873</td>\n",
       "      <td>0.030886</td>\n",
       "      <td>0.007397</td>\n",
       "      <td>0.109971</td>\n",
       "      <td>0.061504</td>\n",
       "      <td>-0.003147</td>\n",
       "      <td>0.045726</td>\n",
       "      <td>1.000000</td>\n",
       "      <td>-0.209167</td>\n",
       "      <td>0.159973</td>\n",
       "      <td>0.218678</td>\n",
       "    </tr>\n",
       "    <tr>\n",
       "      <th>imdb_score</th>\n",
       "      <td>0.305303</td>\n",
       "      <td>0.261662</td>\n",
       "      <td>0.170802</td>\n",
       "      <td>0.076099</td>\n",
       "      <td>0.198021</td>\n",
       "      <td>0.410965</td>\n",
       "      <td>0.085787</td>\n",
       "      <td>-0.062958</td>\n",
       "      <td>0.292475</td>\n",
       "      <td>0.030688</td>\n",
       "      <td>-0.209167</td>\n",
       "      <td>1.000000</td>\n",
       "      <td>0.059445</td>\n",
       "      <td>0.247049</td>\n",
       "    </tr>\n",
       "    <tr>\n",
       "      <th>aspect_ratio</th>\n",
       "      <td>-0.049786</td>\n",
       "      <td>-0.090071</td>\n",
       "      <td>0.001642</td>\n",
       "      <td>-0.020049</td>\n",
       "      <td>0.069346</td>\n",
       "      <td>-0.014761</td>\n",
       "      <td>-0.017885</td>\n",
       "      <td>0.013713</td>\n",
       "      <td>-0.024719</td>\n",
       "      <td>0.006598</td>\n",
       "      <td>0.159973</td>\n",
       "      <td>0.059445</td>\n",
       "      <td>1.000000</td>\n",
       "      <td>0.025737</td>\n",
       "    </tr>\n",
       "    <tr>\n",
       "      <th>movie_facebook_likes</th>\n",
       "      <td>0.683176</td>\n",
       "      <td>0.196605</td>\n",
       "      <td>0.162048</td>\n",
       "      <td>0.135348</td>\n",
       "      <td>0.378082</td>\n",
       "      <td>0.537924</td>\n",
       "      <td>0.209786</td>\n",
       "      <td>0.008918</td>\n",
       "      <td>0.400594</td>\n",
       "      <td>0.062039</td>\n",
       "      <td>0.218678</td>\n",
       "      <td>0.247049</td>\n",
       "      <td>0.025737</td>\n",
       "      <td>1.000000</td>\n",
       "    </tr>\n",
       "  </tbody>\n",
       "</table>\n",
       "</div>"
      ],
      "text/plain": [
       "                           num_critic_for_reviews  duration  \\\n",
       "num_critic_for_reviews                   1.000000  0.258486   \n",
       "duration                                 0.258486  1.000000   \n",
       "director_facebook_likes                  0.180674  0.173296   \n",
       "actor_1_facebook_likes                   0.190016  0.088449   \n",
       "gross                                    0.480601  0.250298   \n",
       "num_voted_users                          0.624943  0.314765   \n",
       "cast_total_facebook_likes                0.263203  0.123074   \n",
       "facenumber_in_poster                    -0.033897  0.013469   \n",
       "num_user_for_reviews                     0.609387  0.328403   \n",
       "budget                                   0.119994  0.074276   \n",
       "title_year                               0.275707 -0.135038   \n",
       "imdb_score                               0.305303  0.261662   \n",
       "aspect_ratio                            -0.049786 -0.090071   \n",
       "movie_facebook_likes                     0.683176  0.196605   \n",
       "\n",
       "                           director_facebook_likes  actor_1_facebook_likes  \\\n",
       "num_critic_for_reviews                    0.180674                0.190016   \n",
       "duration                                  0.173296                0.088449   \n",
       "director_facebook_likes                   1.000000                0.090723   \n",
       "actor_1_facebook_likes                    0.090723                1.000000   \n",
       "gross                                     0.144945                0.154468   \n",
       "num_voted_users                           0.297057                0.192804   \n",
       "cast_total_facebook_likes                 0.119549                0.951661   \n",
       "facenumber_in_poster                     -0.041268                0.072257   \n",
       "num_user_for_reviews                      0.221890                0.145461   \n",
       "budget                                    0.021090                0.022639   \n",
       "title_year                               -0.063820                0.086873   \n",
       "imdb_score                                0.170802                0.076099   \n",
       "aspect_ratio                              0.001642               -0.020049   \n",
       "movie_facebook_likes                      0.162048                0.135348   \n",
       "\n",
       "                              gross  num_voted_users  \\\n",
       "num_critic_for_reviews     0.480601         0.624943   \n",
       "duration                   0.250298         0.314765   \n",
       "director_facebook_likes    0.144945         0.297057   \n",
       "actor_1_facebook_likes     0.154468         0.192804   \n",
       "gross                      1.000000         0.637271   \n",
       "num_voted_users            0.637271         1.000000   \n",
       "cast_total_facebook_likes  0.247400         0.265911   \n",
       "facenumber_in_poster      -0.027755        -0.026998   \n",
       "num_user_for_reviews       0.559958         0.798406   \n",
       "budget                     0.102179         0.079621   \n",
       "title_year                 0.030886         0.007397   \n",
       "imdb_score                 0.198021         0.410965   \n",
       "aspect_ratio               0.069346        -0.014761   \n",
       "movie_facebook_likes       0.378082         0.537924   \n",
       "\n",
       "                           cast_total_facebook_likes  facenumber_in_poster  \\\n",
       "num_critic_for_reviews                      0.263203             -0.033897   \n",
       "duration                                    0.123074              0.013469   \n",
       "director_facebook_likes                     0.119549             -0.041268   \n",
       "actor_1_facebook_likes                      0.951661              0.072257   \n",
       "gross                                       0.247400             -0.027755   \n",
       "num_voted_users                             0.265911             -0.026998   \n",
       "cast_total_facebook_likes                   1.000000              0.091475   \n",
       "facenumber_in_poster                        0.091475              1.000000   \n",
       "num_user_for_reviews                        0.206923             -0.069018   \n",
       "budget                                      0.036557             -0.019559   \n",
       "title_year                                  0.109971              0.061504   \n",
       "imdb_score                                  0.085787             -0.062958   \n",
       "aspect_ratio                               -0.017885              0.013713   \n",
       "movie_facebook_likes                        0.209786              0.008918   \n",
       "\n",
       "                           num_user_for_reviews    budget  title_year  \\\n",
       "num_critic_for_reviews                 0.609387  0.119994    0.275707   \n",
       "duration                               0.328403  0.074276   -0.135038   \n",
       "director_facebook_likes                0.221890  0.021090   -0.063820   \n",
       "actor_1_facebook_likes                 0.145461  0.022639    0.086873   \n",
       "gross                                  0.559958  0.102179    0.030886   \n",
       "num_voted_users                        0.798406  0.079621    0.007397   \n",
       "cast_total_facebook_likes              0.206923  0.036557    0.109971   \n",
       "facenumber_in_poster                  -0.069018 -0.019559    0.061504   \n",
       "num_user_for_reviews                   1.000000  0.084292   -0.003147   \n",
       "budget                                 0.084292  1.000000    0.045726   \n",
       "title_year                            -0.003147  0.045726    1.000000   \n",
       "imdb_score                             0.292475  0.030688   -0.209167   \n",
       "aspect_ratio                          -0.024719  0.006598    0.159973   \n",
       "movie_facebook_likes                   0.400594  0.062039    0.218678   \n",
       "\n",
       "                           imdb_score  aspect_ratio  movie_facebook_likes  \n",
       "num_critic_for_reviews       0.305303     -0.049786              0.683176  \n",
       "duration                     0.261662     -0.090071              0.196605  \n",
       "director_facebook_likes      0.170802      0.001642              0.162048  \n",
       "actor_1_facebook_likes       0.076099     -0.020049              0.135348  \n",
       "gross                        0.198021      0.069346              0.378082  \n",
       "num_voted_users              0.410965     -0.014761              0.537924  \n",
       "cast_total_facebook_likes    0.085787     -0.017885              0.209786  \n",
       "facenumber_in_poster        -0.062958      0.013713              0.008918  \n",
       "num_user_for_reviews         0.292475     -0.024719              0.400594  \n",
       "budget                       0.030688      0.006598              0.062039  \n",
       "title_year                  -0.209167      0.159973              0.218678  \n",
       "imdb_score                   1.000000      0.059445              0.247049  \n",
       "aspect_ratio                 0.059445      1.000000              0.025737  \n",
       "movie_facebook_likes         0.247049      0.025737              1.000000  "
      ]
     },
     "execution_count": 36,
     "metadata": {},
     "output_type": "execute_result"
    }
   ],
   "source": [
    "data.corr()"
   ]
  },
  {
   "cell_type": "code",
   "execution_count": 37,
   "metadata": {},
   "outputs": [
    {
     "data": {
      "text/html": [
       "<div>\n",
       "<style scoped>\n",
       "    .dataframe tbody tr th:only-of-type {\n",
       "        vertical-align: middle;\n",
       "    }\n",
       "\n",
       "    .dataframe tbody tr th {\n",
       "        vertical-align: top;\n",
       "    }\n",
       "\n",
       "    .dataframe thead th {\n",
       "        text-align: right;\n",
       "    }\n",
       "</style>\n",
       "<table border=\"1\" class=\"dataframe\">\n",
       "  <thead>\n",
       "    <tr style=\"text-align: right;\">\n",
       "      <th></th>\n",
       "      <th>imdb_score</th>\n",
       "    </tr>\n",
       "  </thead>\n",
       "  <tbody>\n",
       "    <tr>\n",
       "      <th>num_voted_users</th>\n",
       "      <td>0.410965</td>\n",
       "    </tr>\n",
       "    <tr>\n",
       "      <th>num_critic_for_reviews</th>\n",
       "      <td>0.305303</td>\n",
       "    </tr>\n",
       "    <tr>\n",
       "      <th>num_user_for_reviews</th>\n",
       "      <td>0.292475</td>\n",
       "    </tr>\n",
       "    <tr>\n",
       "      <th>duration</th>\n",
       "      <td>0.261662</td>\n",
       "    </tr>\n",
       "    <tr>\n",
       "      <th>movie_facebook_likes</th>\n",
       "      <td>0.247049</td>\n",
       "    </tr>\n",
       "    <tr>\n",
       "      <th>gross</th>\n",
       "      <td>0.198021</td>\n",
       "    </tr>\n",
       "    <tr>\n",
       "      <th>director_facebook_likes</th>\n",
       "      <td>0.170802</td>\n",
       "    </tr>\n",
       "    <tr>\n",
       "      <th>cast_total_facebook_likes</th>\n",
       "      <td>0.085787</td>\n",
       "    </tr>\n",
       "    <tr>\n",
       "      <th>actor_2_facebook_likes</th>\n",
       "      <td>0.083808</td>\n",
       "    </tr>\n",
       "    <tr>\n",
       "      <th>actor_1_facebook_likes</th>\n",
       "      <td>0.076099</td>\n",
       "    </tr>\n",
       "    <tr>\n",
       "      <th>aspect_ratio</th>\n",
       "      <td>0.059445</td>\n",
       "    </tr>\n",
       "    <tr>\n",
       "      <th>actor_3_facebook_likes</th>\n",
       "      <td>0.052633</td>\n",
       "    </tr>\n",
       "    <tr>\n",
       "      <th>budget</th>\n",
       "      <td>0.030688</td>\n",
       "    </tr>\n",
       "    <tr>\n",
       "      <th>facenumber_in_poster</th>\n",
       "      <td>-0.062958</td>\n",
       "    </tr>\n",
       "    <tr>\n",
       "      <th>title_year</th>\n",
       "      <td>-0.209167</td>\n",
       "    </tr>\n",
       "  </tbody>\n",
       "</table>\n",
       "</div>"
      ],
      "text/plain": [
       "                           imdb_score\n",
       "num_voted_users              0.410965\n",
       "num_critic_for_reviews       0.305303\n",
       "num_user_for_reviews         0.292475\n",
       "duration                     0.261662\n",
       "movie_facebook_likes         0.247049\n",
       "gross                        0.198021\n",
       "director_facebook_likes      0.170802\n",
       "cast_total_facebook_likes    0.085787\n",
       "actor_2_facebook_likes       0.083808\n",
       "actor_1_facebook_likes       0.076099\n",
       "aspect_ratio                 0.059445\n",
       "actor_3_facebook_likes       0.052633\n",
       "budget                       0.030688\n",
       "facenumber_in_poster        -0.062958\n",
       "title_year                  -0.209167"
      ]
     },
     "execution_count": 37,
     "metadata": {},
     "output_type": "execute_result"
    }
   ],
   "source": [
    "corr = pd.DataFrame(df.corr()['imdb_score'].drop('imdb_score'))\n",
    "corr.sort_values(['imdb_score'], ascending = False)"
   ]
  },
  {
   "cell_type": "code",
   "execution_count": 38,
   "metadata": {},
   "outputs": [
    {
     "name": "stderr",
     "output_type": "stream",
     "text": [
      "C:\\ProgramData\\Anaconda2\\lib\\site-packages\\matplotlib\\cbook\\deprecation.py:107: MatplotlibDeprecationWarning: Adding an axes using the same arguments as a previous axes currently reuses the earlier instance.  In a future version, a new instance will always be created and returned.  Meanwhile, this warning can be suppressed, and the future behavior ensured, by passing a unique label to each axes instance.\n",
      "  warnings.warn(message, mplDeprecation, stacklevel=1)\n"
     ]
    },
    {
     "data": {
      "text/plain": [
       "Text(0.5,1,'Correlation Analysis')"
      ]
     },
     "execution_count": 38,
     "metadata": {},
     "output_type": "execute_result"
    },
    {
     "data": {
      "image/png": "[encoded data removed]",
      "text/plain": [
       "<Figure size 576x576 with 2 Axes>"
      ]
     },
     "metadata": {},
     "output_type": "display_data"
    }
   ],
   "source": [
    "plt.figure(figsize=(8,8))\n",
    "sns.heatmap(data.corr(), vmax=.8, square=True, annot=True, fmt=\".1f\")\n",
    "describe = plt.axes()\n",
    "describe.set_title('Correlation Analysis', fontsize=20)"
   ]
  },
  {
   "cell_type": "markdown",
   "metadata": {},
   "source": [
    "# 6. Regression"
   ]
  },
  {
   "cell_type": "code",
   "execution_count": 39,
   "metadata": {},
   "outputs": [],
   "source": [
    "data = data.drop(['director_name', 'actor_1_name', 'language', 'country', 'title_year', 'aspect_ratio'], axis=1)"
   ]
  },
  {
   "cell_type": "code",
   "execution_count": 40,
   "metadata": {},
   "outputs": [
    {
     "data": {
      "text/html": [
       "<div>\n",
       "<style scoped>\n",
       "    .dataframe tbody tr th:only-of-type {\n",
       "        vertical-align: middle;\n",
       "    }\n",
       "\n",
       "    .dataframe tbody tr th {\n",
       "        vertical-align: top;\n",
       "    }\n",
       "\n",
       "    .dataframe thead th {\n",
       "        text-align: right;\n",
       "    }\n",
       "</style>\n",
       "<table border=\"1\" class=\"dataframe\">\n",
       "  <thead>\n",
       "    <tr style=\"text-align: right;\">\n",
       "      <th></th>\n",
       "      <th>num_critic_for_reviews</th>\n",
       "      <th>duration</th>\n",
       "      <th>director_facebook_likes</th>\n",
       "      <th>actor_1_facebook_likes</th>\n",
       "      <th>gross</th>\n",
       "      <th>genres</th>\n",
       "      <th>num_voted_users</th>\n",
       "      <th>cast_total_facebook_likes</th>\n",
       "      <th>facenumber_in_poster</th>\n",
       "      <th>num_user_for_reviews</th>\n",
       "      <th>budget</th>\n",
       "      <th>imdb_score</th>\n",
       "      <th>movie_facebook_likes</th>\n",
       "    </tr>\n",
       "  </thead>\n",
       "  <tbody>\n",
       "    <tr>\n",
       "      <th>0</th>\n",
       "      <td>723.0</td>\n",
       "      <td>178.0</td>\n",
       "      <td>0.0</td>\n",
       "      <td>1000.0</td>\n",
       "      <td>760505847.0</td>\n",
       "      <td>Action|Adventure|Fantasy|Sci-Fi</td>\n",
       "      <td>886204</td>\n",
       "      <td>4834</td>\n",
       "      <td>0.0</td>\n",
       "      <td>3054.0</td>\n",
       "      <td>237000000.0</td>\n",
       "      <td>7.9</td>\n",
       "      <td>33000</td>\n",
       "    </tr>\n",
       "    <tr>\n",
       "      <th>1</th>\n",
       "      <td>302.0</td>\n",
       "      <td>169.0</td>\n",
       "      <td>563.0</td>\n",
       "      <td>40000.0</td>\n",
       "      <td>309404152.0</td>\n",
       "      <td>Action|Adventure|Fantasy</td>\n",
       "      <td>471220</td>\n",
       "      <td>48350</td>\n",
       "      <td>0.0</td>\n",
       "      <td>1238.0</td>\n",
       "      <td>300000000.0</td>\n",
       "      <td>7.1</td>\n",
       "      <td>0</td>\n",
       "    </tr>\n",
       "    <tr>\n",
       "      <th>2</th>\n",
       "      <td>602.0</td>\n",
       "      <td>148.0</td>\n",
       "      <td>0.0</td>\n",
       "      <td>11000.0</td>\n",
       "      <td>200074175.0</td>\n",
       "      <td>Action|Adventure|Thriller</td>\n",
       "      <td>275868</td>\n",
       "      <td>11700</td>\n",
       "      <td>1.0</td>\n",
       "      <td>994.0</td>\n",
       "      <td>245000000.0</td>\n",
       "      <td>6.8</td>\n",
       "      <td>85000</td>\n",
       "    </tr>\n",
       "    <tr>\n",
       "      <th>3</th>\n",
       "      <td>813.0</td>\n",
       "      <td>164.0</td>\n",
       "      <td>22000.0</td>\n",
       "      <td>27000.0</td>\n",
       "      <td>448130642.0</td>\n",
       "      <td>Action|Thriller</td>\n",
       "      <td>1144337</td>\n",
       "      <td>106759</td>\n",
       "      <td>0.0</td>\n",
       "      <td>2701.0</td>\n",
       "      <td>250000000.0</td>\n",
       "      <td>8.5</td>\n",
       "      <td>164000</td>\n",
       "    </tr>\n",
       "    <tr>\n",
       "      <th>4</th>\n",
       "      <td>NaN</td>\n",
       "      <td>NaN</td>\n",
       "      <td>131.0</td>\n",
       "      <td>131.0</td>\n",
       "      <td>NaN</td>\n",
       "      <td>Documentary</td>\n",
       "      <td>8</td>\n",
       "      <td>143</td>\n",
       "      <td>0.0</td>\n",
       "      <td>NaN</td>\n",
       "      <td>NaN</td>\n",
       "      <td>7.1</td>\n",
       "      <td>0</td>\n",
       "    </tr>\n",
       "  </tbody>\n",
       "</table>\n",
       "</div>"
      ],
      "text/plain": [
       "   num_critic_for_reviews  duration  director_facebook_likes  \\\n",
       "0                   723.0     178.0                      0.0   \n",
       "1                   302.0     169.0                    563.0   \n",
       "2                   602.0     148.0                      0.0   \n",
       "3                   813.0     164.0                  22000.0   \n",
       "4                     NaN       NaN                    131.0   \n",
       "\n",
       "   actor_1_facebook_likes        gross                           genres  \\\n",
       "0                  1000.0  760505847.0  Action|Adventure|Fantasy|Sci-Fi   \n",
       "1                 40000.0  309404152.0         Action|Adventure|Fantasy   \n",
       "2                 11000.0  200074175.0        Action|Adventure|Thriller   \n",
       "3                 27000.0  448130642.0                  Action|Thriller   \n",
       "4                   131.0          NaN                      Documentary   \n",
       "\n",
       "   num_voted_users  cast_total_facebook_likes  facenumber_in_poster  \\\n",
       "0           886204                       4834                   0.0   \n",
       "1           471220                      48350                   0.0   \n",
       "2           275868                      11700                   1.0   \n",
       "3          1144337                     106759                   0.0   \n",
       "4                8                        143                   0.0   \n",
       "\n",
       "   num_user_for_reviews       budget  imdb_score  movie_facebook_likes  \n",
       "0                3054.0  237000000.0         7.9                 33000  \n",
       "1                1238.0  300000000.0         7.1                     0  \n",
       "2                 994.0  245000000.0         6.8                 85000  \n",
       "3                2701.0  250000000.0         8.5                164000  \n",
       "4                   NaN          NaN         7.1                     0  "
      ]
     },
     "execution_count": 40,
     "metadata": {},
     "output_type": "execute_result"
    }
   ],
   "source": [
    "data.head()"
   ]
  },
  {
   "cell_type": "code",
   "execution_count": 41,
   "metadata": {},
   "outputs": [
    {
     "data": {
      "text/plain": [
       "num_critic_for_reviews       0\n",
       "duration                     0\n",
       "director_facebook_likes      0\n",
       "actor_1_facebook_likes       0\n",
       "gross                        0\n",
       "genres                       0\n",
       "num_voted_users              0\n",
       "cast_total_facebook_likes    0\n",
       "facenumber_in_poster         0\n",
       "num_user_for_reviews         0\n",
       "budget                       0\n",
       "imdb_score                   0\n",
       "movie_facebook_likes         0\n",
       "dtype: int64"
      ]
     },
     "execution_count": 41,
     "metadata": {},
     "output_type": "execute_result"
    }
   ],
   "source": [
    "df = data.dropna()\n",
    "df.isnull().sum()"
   ]
  },
  {
   "cell_type": "markdown",
   "metadata": {},
   "source": [
    "### Linear Regression"
   ]
  },
  {
   "cell_type": "code",
   "execution_count": 42,
   "metadata": {},
   "outputs": [
    {
     "data": {
      "text/plain": [
       "array([ 1.14998878e-02,  6.53886686e-06,  1.08325457e-05, -1.98578905e-09,\n",
       "        4.12397565e-06, -9.27210557e-06, -3.54685440e-02, -4.38584779e-04,\n",
       "       -2.07960551e-11,  2.07063036e-06])"
      ]
     },
     "execution_count": 42,
     "metadata": {},
     "output_type": "execute_result"
    }
   ],
   "source": [
    "import sklearn.linear_model as lm\n",
    "from sklearn.metrics import mean_squared_error\n",
    "from sklearn.metrics import explained_variance_score\n",
    "#define x & y\n",
    "y= df['imdb_score']\n",
    "X= df[['duration', 'director_facebook_likes', 'actor_1_facebook_likes', 'gross', 'num_voted_users', 'cast_total_facebook_likes',\n",
    "        'facenumber_in_poster','num_user_for_reviews', 'budget', 'movie_facebook_likes']]\n",
    "\n",
    "model1 = lm.LinearRegression()\n",
    "model1.fit(X, y)   \n",
    "model1_y = model1.predict(X)\n",
    "\n",
    "model1.coef_"
   ]
  },
  {
   "cell_type": "code",
   "execution_count": 43,
   "metadata": {},
   "outputs": [
    {
     "name": "stdout",
     "output_type": "stream",
     "text": [
      "Coefficients:  [ 1.14998878e-02  6.53886686e-06  1.08325457e-05 -1.98578905e-09\n",
      "  4.12397565e-06 -9.27210557e-06 -3.54685440e-02 -4.38584779e-04\n",
      " -2.07960551e-11  2.07063036e-06]\n",
      "y-intercept  5.069694722215965\n"
     ]
    }
   ],
   "source": [
    "print 'Coefficients: ', model1.coef_\n",
    "print \"y-intercept \", model1.intercept_"
   ]
  },
  {
   "cell_type": "code",
   "execution_count": 44,
   "metadata": {},
   "outputs": [
    {
     "data": {
      "text/html": [
       "<div>\n",
       "<style scoped>\n",
       "    .dataframe tbody tr th:only-of-type {\n",
       "        vertical-align: middle;\n",
       "    }\n",
       "\n",
       "    .dataframe tbody tr th {\n",
       "        vertical-align: top;\n",
       "    }\n",
       "\n",
       "    .dataframe thead th {\n",
       "        text-align: right;\n",
       "    }\n",
       "</style>\n",
       "<table border=\"1\" class=\"dataframe\">\n",
       "  <thead>\n",
       "    <tr style=\"text-align: right;\">\n",
       "      <th></th>\n",
       "      <th>0</th>\n",
       "      <th>1</th>\n",
       "    </tr>\n",
       "  </thead>\n",
       "  <tbody>\n",
       "    <tr>\n",
       "      <th>0</th>\n",
       "      <td>duration</td>\n",
       "      <td>1.149989e-02</td>\n",
       "    </tr>\n",
       "    <tr>\n",
       "      <th>1</th>\n",
       "      <td>director_facebook_likes</td>\n",
       "      <td>6.538867e-06</td>\n",
       "    </tr>\n",
       "    <tr>\n",
       "      <th>2</th>\n",
       "      <td>actor_1_facebook_likes</td>\n",
       "      <td>1.083255e-05</td>\n",
       "    </tr>\n",
       "    <tr>\n",
       "      <th>3</th>\n",
       "      <td>gross</td>\n",
       "      <td>-1.985789e-09</td>\n",
       "    </tr>\n",
       "    <tr>\n",
       "      <th>4</th>\n",
       "      <td>num_voted_users</td>\n",
       "      <td>4.123976e-06</td>\n",
       "    </tr>\n",
       "    <tr>\n",
       "      <th>5</th>\n",
       "      <td>cast_total_facebook_likes</td>\n",
       "      <td>-9.272106e-06</td>\n",
       "    </tr>\n",
       "    <tr>\n",
       "      <th>6</th>\n",
       "      <td>facenumber_in_poster</td>\n",
       "      <td>-3.546854e-02</td>\n",
       "    </tr>\n",
       "    <tr>\n",
       "      <th>7</th>\n",
       "      <td>num_user_for_reviews</td>\n",
       "      <td>-4.385848e-04</td>\n",
       "    </tr>\n",
       "    <tr>\n",
       "      <th>8</th>\n",
       "      <td>budget</td>\n",
       "      <td>-2.079606e-11</td>\n",
       "    </tr>\n",
       "    <tr>\n",
       "      <th>9</th>\n",
       "      <td>movie_facebook_likes</td>\n",
       "      <td>2.070630e-06</td>\n",
       "    </tr>\n",
       "  </tbody>\n",
       "</table>\n",
       "</div>"
      ],
      "text/plain": [
       "                           0             1\n",
       "0                   duration  1.149989e-02\n",
       "1    director_facebook_likes  6.538867e-06\n",
       "2     actor_1_facebook_likes  1.083255e-05\n",
       "3                      gross -1.985789e-09\n",
       "4            num_voted_users  4.123976e-06\n",
       "5  cast_total_facebook_likes -9.272106e-06\n",
       "6       facenumber_in_poster -3.546854e-02\n",
       "7       num_user_for_reviews -4.385848e-04\n",
       "8                     budget -2.079606e-11\n",
       "9       movie_facebook_likes  2.070630e-06"
      ]
     },
     "execution_count": 44,
     "metadata": {},
     "output_type": "execute_result"
    }
   ],
   "source": [
    "import numpy as np\n",
    "pd.DataFrame(zip(X.columns, np.transpose(model1.coef_)))"
   ]
  },
  {
   "cell_type": "code",
   "execution_count": 45,
   "metadata": {},
   "outputs": [
    {
     "data": {
      "text/plain": [
       "[('duration', '0.011'),\n",
       " ('director_facebook_likes', '0.000'),\n",
       " ('actor_1_facebook_likes', '0.000'),\n",
       " ('gross', '-0.000'),\n",
       " ('num_voted_users', '0.000'),\n",
       " ('cast_total_facebook_likes', '-0.000'),\n",
       " ('facenumber_in_poster', '-0.035'),\n",
       " ('num_user_for_reviews', '-0.000'),\n",
       " ('budget', '-0.000'),\n",
       " ('movie_facebook_likes', '0.000')]"
      ]
     },
     "execution_count": 45,
     "metadata": {},
     "output_type": "execute_result"
    }
   ],
   "source": [
    "coef = [\"%.3f\" % i for i in model1.coef_]\n",
    "xcolumns = [ i for i in X.columns ]\n",
    "zip(xcolumns, coef)"
   ]
  },
  {
   "cell_type": "markdown",
   "metadata": {},
   "source": [
    "\n",
    "From linear regression we can see that there is big linear regression with director_facebook_likes and also high linear regression with num_voted_users and low linear regression with cast_total_facebook_likes."
   ]
  },
  {
   "cell_type": "markdown",
   "metadata": {},
   "source": [
    "### Multiple regression model"
   ]
  },
  {
   "cell_type": "code",
   "execution_count": 46,
   "metadata": {},
   "outputs": [
    {
     "data": {
      "text/plain": [
       "array([1.7851940e-05, 3.2111077e-06])"
      ]
     },
     "execution_count": 46,
     "metadata": {},
     "output_type": "execute_result"
    }
   ],
   "source": [
    "#build a simple multiple regression model\n",
    "y_mul = df['imdb_score']\n",
    "X_mul = df[['director_facebook_likes', 'num_voted_users']]\n",
    "\n",
    "# build a multiple regression model below\n",
    "model2 = lm.LinearRegression()\n",
    "model2.fit(X_mul, y_mul)   \n",
    "model2_y = model2.predict(X_mul)\n",
    "\n",
    "model2.coef_"
   ]
  },
  {
   "cell_type": "code",
   "execution_count": 47,
   "metadata": {},
   "outputs": [
    {
     "data": {
      "text/plain": [
       "[('director_facebook_likes', '0.000'), ('num_voted_users', '0.000')]"
      ]
     },
     "execution_count": 47,
     "metadata": {},
     "output_type": "execute_result"
    }
   ],
   "source": [
    "coef = [\"%.3f\" % i for i in model2.coef_]\n",
    "xcolumns = [ i for i in X_mul.columns ]\n",
    "zip(xcolumns, coef)"
   ]
  },
  {
   "cell_type": "code",
   "execution_count": 48,
   "metadata": {},
   "outputs": [
    {
     "name": "stdout",
     "output_type": "stream",
     "text": [
      "y-intercept  6.119967926145203\n"
     ]
    }
   ],
   "source": [
    "print \"y-intercept \", model2.intercept_"
   ]
  },
  {
   "cell_type": "markdown",
   "metadata": {},
   "source": [
    "### Regression model based on regularization"
   ]
  },
  {
   "cell_type": "code",
   "execution_count": 49,
   "metadata": {},
   "outputs": [
    {
     "name": "stderr",
     "output_type": "stream",
     "text": [
      "C:\\ProgramData\\Anaconda2\\lib\\site-packages\\sklearn\\linear_model\\ridge.py:112: LinAlgWarning: scipy.linalg.solve\n",
      "Ill-conditioned matrix detected. Result is not guaranteed to be accurate.\n",
      "Reciprocal condition number7.963510e-17\n",
      "  overwrite_a=True).T\n"
     ]
    }
   ],
   "source": [
    "#build a regularized regression model\n",
    "\n",
    "#Ridge model\n",
    "#Fit the model\n",
    "rig = lm.Ridge(alpha=0.1)        #higher alpha (penality parameter), fewer predictors\n",
    "rig.fit(X, y)\n",
    "rig_y = rig.predict(X)\n"
   ]
  },
  {
   "cell_type": "code",
   "execution_count": 50,
   "metadata": {},
   "outputs": [
    {
     "name": "stdout",
     "output_type": "stream",
     "text": [
      "Coefficients:  [ 1.14998859e-02  6.53887612e-06  1.08325520e-05 -1.98578877e-09\n",
      "  4.12397549e-06 -9.27211296e-06 -3.54683207e-02 -4.38584607e-04\n",
      " -2.07960094e-11  2.07063003e-06]\n",
      "y-intercept  5.0696946039929\n"
     ]
    }
   ],
   "source": [
    "print 'Coefficients: ', rig.coef_\n",
    "print \"y-intercept \", rig.intercept_"
   ]
  },
  {
   "cell_type": "code",
   "execution_count": 51,
   "metadata": {},
   "outputs": [
    {
     "data": {
      "text/plain": [
       "[('duration', '0.011'),\n",
       " ('director_facebook_likes', '0.000'),\n",
       " ('actor_1_facebook_likes', '0.000'),\n",
       " ('gross', '-0.000'),\n",
       " ('num_voted_users', '0.000'),\n",
       " ('cast_total_facebook_likes', '-0.000'),\n",
       " ('facenumber_in_poster', '-0.035'),\n",
       " ('num_user_for_reviews', '-0.000'),\n",
       " ('budget', '-0.000'),\n",
       " ('movie_facebook_likes', '0.000')]"
      ]
     },
     "execution_count": 51,
     "metadata": {},
     "output_type": "execute_result"
    }
   ],
   "source": [
    "coef = [\"%.3f\" % i for i in rig.coef_]\n",
    "xcolumns = [ i for i in X.columns ]\n",
    "zip(xcolumns, coef)"
   ]
  },
  {
   "cell_type": "code",
   "execution_count": 52,
   "metadata": {},
   "outputs": [
    {
     "data": {
      "text/plain": [
       "[('0.011', 'duration'),\n",
       " ('0.000', 'num_voted_users'),\n",
       " ('0.000', 'movie_facebook_likes'),\n",
       " ('0.000', 'director_facebook_likes'),\n",
       " ('0.000', 'actor_1_facebook_likes'),\n",
       " ('-0.035', 'facenumber_in_poster'),\n",
       " ('-0.000', 'num_user_for_reviews'),\n",
       " ('-0.000', 'gross'),\n",
       " ('-0.000', 'cast_total_facebook_likes'),\n",
       " ('-0.000', 'budget')]"
      ]
     },
     "execution_count": 52,
     "metadata": {},
     "output_type": "execute_result"
    }
   ],
   "source": [
    "sorted(zip(coef, xcolumns), reverse = True)"
   ]
  },
  {
   "cell_type": "code",
   "execution_count": 53,
   "metadata": {},
   "outputs": [
    {
     "name": "stdout",
     "output_type": "stream",
     "text": [
      "mean square error:  0.7794143390015065\n",
      "variance or r-squared:  0.3015007185403017\n"
     ]
    }
   ],
   "source": [
    "print \"mean square error: \", mean_squared_error(y, rig_y)\n",
    "print \"variance or r-squared: \", explained_variance_score(y, rig_y)"
   ]
  },
  {
   "cell_type": "markdown",
   "metadata": {},
   "source": [
    "### Feature selection"
   ]
  },
  {
   "cell_type": "code",
   "execution_count": 54,
   "metadata": {},
   "outputs": [
    {
     "name": "stdout",
     "output_type": "stream",
     "text": [
      "Features sorted by their rank:\n",
      "[(1, 'duration'), (1, 'facenumber_in_poster'), (2, 'num_user_for_reviews'), (3, 'director_facebook_likes'), (4, 'actor_1_facebook_likes'), (5, 'cast_total_facebook_likes'), (6, 'num_voted_users'), (7, 'movie_facebook_likes'), (8, 'gross'), (9, 'budget')]\n"
     ]
    }
   ],
   "source": [
    "from sklearn.feature_selection import RFE\n",
    "#Feature selection \n",
    "lr = lm.LinearRegression()\n",
    "rfe = RFE(lr, n_features_to_select=2)\n",
    "rfe_y = rfe.fit(X,y)\n",
    "\n",
    "print \"Features sorted by their rank:\"\n",
    "print sorted(zip(map(lambda x: x, rfe.ranking_), X.columns))"
   ]
  },
  {
   "cell_type": "markdown",
   "metadata": {},
   "source": [
    "### Random Forest"
   ]
  },
  {
   "cell_type": "code",
   "execution_count": 55,
   "metadata": {},
   "outputs": [
    {
     "name": "stdout",
     "output_type": "stream",
     "text": [
      "mean square error:  0.09976097938144332\n",
      "variance or r-squared:  0.9105991834680436\n"
     ]
    }
   ],
   "source": [
    "#randomforest\n",
    "from sklearn.ensemble import RandomForestRegressor\n",
    "from sklearn.datasets import make_regression\n",
    "\n",
    "#assigning columns to X and Y variables\n",
    "y = df['imdb_score'] \n",
    "X = df[['duration', 'director_facebook_likes', 'actor_1_facebook_likes', 'gross', 'num_voted_users', 'cast_total_facebook_likes',\n",
    "        'facenumber_in_poster','num_user_for_reviews', 'budget', 'movie_facebook_likes']]\n",
    "#X = teams.drop(['R'], axis =1)\n",
    "\n",
    "regr = RandomForestRegressor(random_state=0)\n",
    "regr.fit(X, y)\n",
    "regr_predicted = regr.predict(X)\n",
    "\n",
    "print \"mean square error: \", mean_squared_error(y, regr_predicted)\n",
    "print \"variance or r-squared: \", explained_variance_score(y, regr_predicted)"
   ]
  },
  {
   "cell_type": "code",
   "execution_count": 56,
   "metadata": {},
   "outputs": [
    {
     "data": {
      "text/plain": [
       "[(0.022455480440716196, 'facenumber_in_poster'),\n",
       " (0.03712209429168495, 'actor_1_facebook_likes'),\n",
       " (0.046774654235592114, 'movie_facebook_likes'),\n",
       " (0.04818035911677494, 'director_facebook_likes'),\n",
       " (0.06184771361217585, 'cast_total_facebook_likes'),\n",
       " (0.08054758435844898, 'num_user_for_reviews'),\n",
       " (0.0896979781796065, 'gross'),\n",
       " (0.12939581784275025, 'budget'),\n",
       " (0.13165016832812618, 'duration'),\n",
       " (0.352328149594124, 'num_voted_users')]"
      ]
     },
     "execution_count": 56,
     "metadata": {},
     "output_type": "execute_result"
    }
   ],
   "source": [
    "sorted(zip(regr.feature_importances_, X.columns))"
   ]
  },
  {
   "cell_type": "markdown",
   "metadata": {},
   "source": [
    "# 7. Classification"
   ]
  },
  {
   "cell_type": "markdown",
   "metadata": {},
   "source": [
    "### Data transformation"
   ]
  },
  {
   "cell_type": "code",
   "execution_count": 57,
   "metadata": {},
   "outputs": [
    {
     "name": "stderr",
     "output_type": "stream",
     "text": [
      "C:\\ProgramData\\Anaconda2\\lib\\site-packages\\ipykernel_launcher.py:1: SettingWithCopyWarning: \n",
      "A value is trying to be set on a copy of a slice from a DataFrame.\n",
      "Try using .loc[row_indexer,col_indexer] = value instead\n",
      "\n",
      "See the caveats in the documentation: http://pandas.pydata.org/pandas-docs/stable/indexing.html#indexing-view-versus-copy\n",
      "  \"\"\"Entry point for launching an IPython kernel.\n",
      "C:\\ProgramData\\Anaconda2\\lib\\site-packages\\ipykernel_launcher.py:2: SettingWithCopyWarning: \n",
      "A value is trying to be set on a copy of a slice from a DataFrame\n",
      "\n",
      "See the caveats in the documentation: http://pandas.pydata.org/pandas-docs/stable/indexing.html#indexing-view-versus-copy\n",
      "  \n",
      "C:\\ProgramData\\Anaconda2\\lib\\site-packages\\pandas\\core\\generic.py:7620: SettingWithCopyWarning: \n",
      "A value is trying to be set on a copy of a slice from a DataFrame\n",
      "\n",
      "See the caveats in the documentation: http://pandas.pydata.org/pandas-docs/stable/indexing.html#indexing-view-versus-copy\n",
      "  self._update_inplace(new_data)\n",
      "C:\\ProgramData\\Anaconda2\\lib\\site-packages\\IPython\\core\\interactiveshell.py:2878: SettingWithCopyWarning: \n",
      "A value is trying to be set on a copy of a slice from a DataFrame\n",
      "\n",
      "See the caveats in the documentation: http://pandas.pydata.org/pandas-docs/stable/indexing.html#indexing-view-versus-copy\n",
      "  exec(code_obj, self.user_global_ns, self.user_ns)\n",
      "C:\\ProgramData\\Anaconda2\\lib\\site-packages\\ipykernel_launcher.py:3: SettingWithCopyWarning: \n",
      "A value is trying to be set on a copy of a slice from a DataFrame\n",
      "\n",
      "See the caveats in the documentation: http://pandas.pydata.org/pandas-docs/stable/indexing.html#indexing-view-versus-copy\n",
      "  This is separate from the ipykernel package so we can avoid doing imports until\n",
      "C:\\ProgramData\\Anaconda2\\lib\\site-packages\\ipykernel_launcher.py:4: SettingWithCopyWarning: \n",
      "A value is trying to be set on a copy of a slice from a DataFrame\n",
      "\n",
      "See the caveats in the documentation: http://pandas.pydata.org/pandas-docs/stable/indexing.html#indexing-view-versus-copy\n",
      "  after removing the cwd from sys.path.\n"
     ]
    },
    {
     "data": {
      "text/html": [
       "<div>\n",
       "<style scoped>\n",
       "    .dataframe tbody tr th:only-of-type {\n",
       "        vertical-align: middle;\n",
       "    }\n",
       "\n",
       "    .dataframe tbody tr th {\n",
       "        vertical-align: top;\n",
       "    }\n",
       "\n",
       "    .dataframe thead th {\n",
       "        text-align: right;\n",
       "    }\n",
       "</style>\n",
       "<table border=\"1\" class=\"dataframe\">\n",
       "  <thead>\n",
       "    <tr style=\"text-align: right;\">\n",
       "      <th></th>\n",
       "      <th>num_critic_for_reviews</th>\n",
       "      <th>duration</th>\n",
       "      <th>director_facebook_likes</th>\n",
       "      <th>actor_1_facebook_likes</th>\n",
       "      <th>gross</th>\n",
       "      <th>genres</th>\n",
       "      <th>num_voted_users</th>\n",
       "      <th>cast_total_facebook_likes</th>\n",
       "      <th>facenumber_in_poster</th>\n",
       "      <th>num_user_for_reviews</th>\n",
       "      <th>budget</th>\n",
       "      <th>imdb_score</th>\n",
       "      <th>movie_facebook_likes</th>\n",
       "      <th>category</th>\n",
       "    </tr>\n",
       "  </thead>\n",
       "  <tbody>\n",
       "    <tr>\n",
       "      <th>0</th>\n",
       "      <td>723.0</td>\n",
       "      <td>178.0</td>\n",
       "      <td>0.0</td>\n",
       "      <td>1000.0</td>\n",
       "      <td>760505847.0</td>\n",
       "      <td>Action|Adventure|Fantasy|Sci-Fi</td>\n",
       "      <td>886204</td>\n",
       "      <td>4834</td>\n",
       "      <td>0.0</td>\n",
       "      <td>3054.0</td>\n",
       "      <td>237000000.0</td>\n",
       "      <td>7.9</td>\n",
       "      <td>33000</td>\n",
       "      <td>3</td>\n",
       "    </tr>\n",
       "    <tr>\n",
       "      <th>1</th>\n",
       "      <td>302.0</td>\n",
       "      <td>169.0</td>\n",
       "      <td>563.0</td>\n",
       "      <td>40000.0</td>\n",
       "      <td>309404152.0</td>\n",
       "      <td>Action|Adventure|Fantasy</td>\n",
       "      <td>471220</td>\n",
       "      <td>48350</td>\n",
       "      <td>0.0</td>\n",
       "      <td>1238.0</td>\n",
       "      <td>300000000.0</td>\n",
       "      <td>7.1</td>\n",
       "      <td>0</td>\n",
       "      <td>3</td>\n",
       "    </tr>\n",
       "    <tr>\n",
       "      <th>2</th>\n",
       "      <td>602.0</td>\n",
       "      <td>148.0</td>\n",
       "      <td>0.0</td>\n",
       "      <td>11000.0</td>\n",
       "      <td>200074175.0</td>\n",
       "      <td>Action|Adventure|Thriller</td>\n",
       "      <td>275868</td>\n",
       "      <td>11700</td>\n",
       "      <td>1.0</td>\n",
       "      <td>994.0</td>\n",
       "      <td>245000000.0</td>\n",
       "      <td>6.8</td>\n",
       "      <td>85000</td>\n",
       "      <td>3</td>\n",
       "    </tr>\n",
       "    <tr>\n",
       "      <th>3</th>\n",
       "      <td>813.0</td>\n",
       "      <td>164.0</td>\n",
       "      <td>22000.0</td>\n",
       "      <td>27000.0</td>\n",
       "      <td>448130642.0</td>\n",
       "      <td>Action|Thriller</td>\n",
       "      <td>1144337</td>\n",
       "      <td>106759</td>\n",
       "      <td>0.0</td>\n",
       "      <td>2701.0</td>\n",
       "      <td>250000000.0</td>\n",
       "      <td>8.5</td>\n",
       "      <td>164000</td>\n",
       "      <td>4</td>\n",
       "    </tr>\n",
       "    <tr>\n",
       "      <th>5</th>\n",
       "      <td>462.0</td>\n",
       "      <td>132.0</td>\n",
       "      <td>475.0</td>\n",
       "      <td>640.0</td>\n",
       "      <td>73058679.0</td>\n",
       "      <td>Action|Adventure|Sci-Fi</td>\n",
       "      <td>212204</td>\n",
       "      <td>1873</td>\n",
       "      <td>1.0</td>\n",
       "      <td>738.0</td>\n",
       "      <td>263700000.0</td>\n",
       "      <td>6.6</td>\n",
       "      <td>24000</td>\n",
       "      <td>3</td>\n",
       "    </tr>\n",
       "  </tbody>\n",
       "</table>\n",
       "</div>"
      ],
      "text/plain": [
       "   num_critic_for_reviews  duration  director_facebook_likes  \\\n",
       "0                   723.0     178.0                      0.0   \n",
       "1                   302.0     169.0                    563.0   \n",
       "2                   602.0     148.0                      0.0   \n",
       "3                   813.0     164.0                  22000.0   \n",
       "5                   462.0     132.0                    475.0   \n",
       "\n",
       "   actor_1_facebook_likes        gross                           genres  \\\n",
       "0                  1000.0  760505847.0  Action|Adventure|Fantasy|Sci-Fi   \n",
       "1                 40000.0  309404152.0         Action|Adventure|Fantasy   \n",
       "2                 11000.0  200074175.0        Action|Adventure|Thriller   \n",
       "3                 27000.0  448130642.0                  Action|Thriller   \n",
       "5                   640.0   73058679.0          Action|Adventure|Sci-Fi   \n",
       "\n",
       "   num_voted_users  cast_total_facebook_likes  facenumber_in_poster  \\\n",
       "0           886204                       4834                   0.0   \n",
       "1           471220                      48350                   0.0   \n",
       "2           275868                      11700                   1.0   \n",
       "3          1144337                     106759                   0.0   \n",
       "5           212204                       1873                   1.0   \n",
       "\n",
       "   num_user_for_reviews       budget  imdb_score  movie_facebook_likes  \\\n",
       "0                3054.0  237000000.0         7.9                 33000   \n",
       "1                1238.0  300000000.0         7.1                     0   \n",
       "2                 994.0  245000000.0         6.8                 85000   \n",
       "3                2701.0  250000000.0         8.5                164000   \n",
       "5                 738.0  263700000.0         6.6                 24000   \n",
       "\n",
       "   category  \n",
       "0         3  \n",
       "1         3  \n",
       "2         3  \n",
       "3         4  \n",
       "5         3  "
      ]
     },
     "execution_count": 57,
     "metadata": {},
     "output_type": "execute_result"
    }
   ],
   "source": [
    "df['category'] = 1\n",
    "df['category'][(df['imdb_score']>=14)& (df['imdb_score']<=6)] = 2\n",
    "df['category'][(df['imdb_score']>6)& (df['imdb_score']<=8)] = 3\n",
    "df['category'][df['imdb_score']>8] = 4\n",
    "df.head()"
   ]
  },
  {
   "cell_type": "code",
   "execution_count": 58,
   "metadata": {},
   "outputs": [
    {
     "data": {
      "text/html": [
       "<div>\n",
       "<style scoped>\n",
       "    .dataframe tbody tr th:only-of-type {\n",
       "        vertical-align: middle;\n",
       "    }\n",
       "\n",
       "    .dataframe tbody tr th {\n",
       "        vertical-align: top;\n",
       "    }\n",
       "\n",
       "    .dataframe thead th {\n",
       "        text-align: right;\n",
       "    }\n",
       "</style>\n",
       "<table border=\"1\" class=\"dataframe\">\n",
       "  <thead>\n",
       "    <tr style=\"text-align: right;\">\n",
       "      <th></th>\n",
       "      <th>num_critic_for_reviews</th>\n",
       "      <th>duration</th>\n",
       "      <th>director_facebook_likes</th>\n",
       "      <th>actor_1_facebook_likes</th>\n",
       "      <th>gross</th>\n",
       "      <th>num_voted_users</th>\n",
       "      <th>cast_total_facebook_likes</th>\n",
       "      <th>facenumber_in_poster</th>\n",
       "      <th>num_user_for_reviews</th>\n",
       "      <th>budget</th>\n",
       "      <th>imdb_score</th>\n",
       "      <th>movie_facebook_likes</th>\n",
       "      <th>category</th>\n",
       "    </tr>\n",
       "  </thead>\n",
       "  <tbody>\n",
       "    <tr>\n",
       "      <th>0</th>\n",
       "      <td>723.0</td>\n",
       "      <td>178.0</td>\n",
       "      <td>0.0</td>\n",
       "      <td>1000.0</td>\n",
       "      <td>760505847.0</td>\n",
       "      <td>886204</td>\n",
       "      <td>4834</td>\n",
       "      <td>0.0</td>\n",
       "      <td>3054.0</td>\n",
       "      <td>237000000.0</td>\n",
       "      <td>7.9</td>\n",
       "      <td>33000</td>\n",
       "      <td>3</td>\n",
       "    </tr>\n",
       "    <tr>\n",
       "      <th>1</th>\n",
       "      <td>302.0</td>\n",
       "      <td>169.0</td>\n",
       "      <td>563.0</td>\n",
       "      <td>40000.0</td>\n",
       "      <td>309404152.0</td>\n",
       "      <td>471220</td>\n",
       "      <td>48350</td>\n",
       "      <td>0.0</td>\n",
       "      <td>1238.0</td>\n",
       "      <td>300000000.0</td>\n",
       "      <td>7.1</td>\n",
       "      <td>0</td>\n",
       "      <td>3</td>\n",
       "    </tr>\n",
       "    <tr>\n",
       "      <th>2</th>\n",
       "      <td>602.0</td>\n",
       "      <td>148.0</td>\n",
       "      <td>0.0</td>\n",
       "      <td>11000.0</td>\n",
       "      <td>200074175.0</td>\n",
       "      <td>275868</td>\n",
       "      <td>11700</td>\n",
       "      <td>1.0</td>\n",
       "      <td>994.0</td>\n",
       "      <td>245000000.0</td>\n",
       "      <td>6.8</td>\n",
       "      <td>85000</td>\n",
       "      <td>3</td>\n",
       "    </tr>\n",
       "    <tr>\n",
       "      <th>3</th>\n",
       "      <td>813.0</td>\n",
       "      <td>164.0</td>\n",
       "      <td>22000.0</td>\n",
       "      <td>27000.0</td>\n",
       "      <td>448130642.0</td>\n",
       "      <td>1144337</td>\n",
       "      <td>106759</td>\n",
       "      <td>0.0</td>\n",
       "      <td>2701.0</td>\n",
       "      <td>250000000.0</td>\n",
       "      <td>8.5</td>\n",
       "      <td>164000</td>\n",
       "      <td>4</td>\n",
       "    </tr>\n",
       "    <tr>\n",
       "      <th>5</th>\n",
       "      <td>462.0</td>\n",
       "      <td>132.0</td>\n",
       "      <td>475.0</td>\n",
       "      <td>640.0</td>\n",
       "      <td>73058679.0</td>\n",
       "      <td>212204</td>\n",
       "      <td>1873</td>\n",
       "      <td>1.0</td>\n",
       "      <td>738.0</td>\n",
       "      <td>263700000.0</td>\n",
       "      <td>6.6</td>\n",
       "      <td>24000</td>\n",
       "      <td>3</td>\n",
       "    </tr>\n",
       "  </tbody>\n",
       "</table>\n",
       "</div>"
      ],
      "text/plain": [
       "   num_critic_for_reviews  duration  director_facebook_likes  \\\n",
       "0                   723.0     178.0                      0.0   \n",
       "1                   302.0     169.0                    563.0   \n",
       "2                   602.0     148.0                      0.0   \n",
       "3                   813.0     164.0                  22000.0   \n",
       "5                   462.0     132.0                    475.0   \n",
       "\n",
       "   actor_1_facebook_likes        gross  num_voted_users  \\\n",
       "0                  1000.0  760505847.0           886204   \n",
       "1                 40000.0  309404152.0           471220   \n",
       "2                 11000.0  200074175.0           275868   \n",
       "3                 27000.0  448130642.0          1144337   \n",
       "5                   640.0   73058679.0           212204   \n",
       "\n",
       "   cast_total_facebook_likes  facenumber_in_poster  num_user_for_reviews  \\\n",
       "0                       4834                   0.0                3054.0   \n",
       "1                      48350                   0.0                1238.0   \n",
       "2                      11700                   1.0                 994.0   \n",
       "3                     106759                   0.0                2701.0   \n",
       "5                       1873                   1.0                 738.0   \n",
       "\n",
       "        budget  imdb_score  movie_facebook_likes  category  \n",
       "0  237000000.0         7.9                 33000         3  \n",
       "1  300000000.0         7.1                     0         3  \n",
       "2  245000000.0         6.8                 85000         3  \n",
       "3  250000000.0         8.5                164000         4  \n",
       "5  263700000.0         6.6                 24000         3  "
      ]
     },
     "execution_count": 58,
     "metadata": {},
     "output_type": "execute_result"
    }
   ],
   "source": [
    "df = df.drop(['genres'], axis = 1)\n",
    "df.head()"
   ]
  },
  {
   "cell_type": "code",
   "execution_count": 59,
   "metadata": {},
   "outputs": [
    {
     "data": {
      "text/html": [
       "<div>\n",
       "<style scoped>\n",
       "    .dataframe tbody tr th:only-of-type {\n",
       "        vertical-align: middle;\n",
       "    }\n",
       "\n",
       "    .dataframe tbody tr th {\n",
       "        vertical-align: top;\n",
       "    }\n",
       "\n",
       "    .dataframe thead th {\n",
       "        text-align: right;\n",
       "    }\n",
       "</style>\n",
       "<table border=\"1\" class=\"dataframe\">\n",
       "  <thead>\n",
       "    <tr style=\"text-align: right;\">\n",
       "      <th></th>\n",
       "      <th>num_critic_for_reviews</th>\n",
       "      <th>duration</th>\n",
       "      <th>director_facebook_likes</th>\n",
       "      <th>actor_1_facebook_likes</th>\n",
       "      <th>gross</th>\n",
       "      <th>num_voted_users</th>\n",
       "      <th>cast_total_facebook_likes</th>\n",
       "      <th>facenumber_in_poster</th>\n",
       "      <th>num_user_for_reviews</th>\n",
       "      <th>budget</th>\n",
       "      <th>movie_facebook_likes</th>\n",
       "      <th>category</th>\n",
       "    </tr>\n",
       "  </thead>\n",
       "  <tbody>\n",
       "    <tr>\n",
       "      <th>0</th>\n",
       "      <td>723.0</td>\n",
       "      <td>178.0</td>\n",
       "      <td>0.0</td>\n",
       "      <td>1000.0</td>\n",
       "      <td>760505847.0</td>\n",
       "      <td>886204</td>\n",
       "      <td>4834</td>\n",
       "      <td>0.0</td>\n",
       "      <td>3054.0</td>\n",
       "      <td>237000000.0</td>\n",
       "      <td>33000</td>\n",
       "      <td>3</td>\n",
       "    </tr>\n",
       "    <tr>\n",
       "      <th>1</th>\n",
       "      <td>302.0</td>\n",
       "      <td>169.0</td>\n",
       "      <td>563.0</td>\n",
       "      <td>40000.0</td>\n",
       "      <td>309404152.0</td>\n",
       "      <td>471220</td>\n",
       "      <td>48350</td>\n",
       "      <td>0.0</td>\n",
       "      <td>1238.0</td>\n",
       "      <td>300000000.0</td>\n",
       "      <td>0</td>\n",
       "      <td>3</td>\n",
       "    </tr>\n",
       "    <tr>\n",
       "      <th>2</th>\n",
       "      <td>602.0</td>\n",
       "      <td>148.0</td>\n",
       "      <td>0.0</td>\n",
       "      <td>11000.0</td>\n",
       "      <td>200074175.0</td>\n",
       "      <td>275868</td>\n",
       "      <td>11700</td>\n",
       "      <td>1.0</td>\n",
       "      <td>994.0</td>\n",
       "      <td>245000000.0</td>\n",
       "      <td>85000</td>\n",
       "      <td>3</td>\n",
       "    </tr>\n",
       "    <tr>\n",
       "      <th>3</th>\n",
       "      <td>813.0</td>\n",
       "      <td>164.0</td>\n",
       "      <td>22000.0</td>\n",
       "      <td>27000.0</td>\n",
       "      <td>448130642.0</td>\n",
       "      <td>1144337</td>\n",
       "      <td>106759</td>\n",
       "      <td>0.0</td>\n",
       "      <td>2701.0</td>\n",
       "      <td>250000000.0</td>\n",
       "      <td>164000</td>\n",
       "      <td>4</td>\n",
       "    </tr>\n",
       "    <tr>\n",
       "      <th>5</th>\n",
       "      <td>462.0</td>\n",
       "      <td>132.0</td>\n",
       "      <td>475.0</td>\n",
       "      <td>640.0</td>\n",
       "      <td>73058679.0</td>\n",
       "      <td>212204</td>\n",
       "      <td>1873</td>\n",
       "      <td>1.0</td>\n",
       "      <td>738.0</td>\n",
       "      <td>263700000.0</td>\n",
       "      <td>24000</td>\n",
       "      <td>3</td>\n",
       "    </tr>\n",
       "  </tbody>\n",
       "</table>\n",
       "</div>"
      ],
      "text/plain": [
       "   num_critic_for_reviews  duration  director_facebook_likes  \\\n",
       "0                   723.0     178.0                      0.0   \n",
       "1                   302.0     169.0                    563.0   \n",
       "2                   602.0     148.0                      0.0   \n",
       "3                   813.0     164.0                  22000.0   \n",
       "5                   462.0     132.0                    475.0   \n",
       "\n",
       "   actor_1_facebook_likes        gross  num_voted_users  \\\n",
       "0                  1000.0  760505847.0           886204   \n",
       "1                 40000.0  309404152.0           471220   \n",
       "2                 11000.0  200074175.0           275868   \n",
       "3                 27000.0  448130642.0          1144337   \n",
       "5                   640.0   73058679.0           212204   \n",
       "\n",
       "   cast_total_facebook_likes  facenumber_in_poster  num_user_for_reviews  \\\n",
       "0                       4834                   0.0                3054.0   \n",
       "1                      48350                   0.0                1238.0   \n",
       "2                      11700                   1.0                 994.0   \n",
       "3                     106759                   0.0                2701.0   \n",
       "5                       1873                   1.0                 738.0   \n",
       "\n",
       "        budget  movie_facebook_likes  category  \n",
       "0  237000000.0                 33000         3  \n",
       "1  300000000.0                     0         3  \n",
       "2  245000000.0                 85000         3  \n",
       "3  250000000.0                164000         4  \n",
       "5  263700000.0                 24000         3  "
      ]
     },
     "execution_count": 59,
     "metadata": {},
     "output_type": "execute_result"
    }
   ],
   "source": [
    "df = df.drop(['imdb_score'], axis = 1)\n",
    "df.head()"
   ]
  },
  {
   "cell_type": "code",
   "execution_count": 60,
   "metadata": {},
   "outputs": [],
   "source": [
    "y= df['category']\n",
    "X= df[['duration', 'director_facebook_likes', 'actor_1_facebook_likes', 'gross', 'num_voted_users', 'cast_total_facebook_likes',\n",
    "        'facenumber_in_poster','num_user_for_reviews', 'budget', 'movie_facebook_likes']]"
   ]
  },
  {
   "cell_type": "markdown",
   "metadata": {},
   "source": [
    "### Decision tree"
   ]
  },
  {
   "cell_type": "code",
   "execution_count": 61,
   "metadata": {},
   "outputs": [
    {
     "data": {
      "text/plain": [
       "DecisionTreeClassifier(class_weight=None, criterion='gini', max_depth=None,\n",
       "            max_features=None, max_leaf_nodes=None,\n",
       "            min_impurity_decrease=0.0, min_impurity_split=None,\n",
       "            min_samples_leaf=1, min_samples_split=2,\n",
       "            min_weight_fraction_leaf=0.0, presort=False, random_state=None,\n",
       "            splitter='best')"
      ]
     },
     "execution_count": 61,
     "metadata": {},
     "output_type": "execute_result"
    }
   ],
   "source": [
    "from sklearn.model_selection import StratifiedKFold, cross_val_score, train_test_split, GridSearchCV \n",
    "from sklearn.tree import DecisionTreeClassifier\n",
    "from sklearn import tree\n",
    "#Decision tree\n",
    "# split validation\n",
    "X_train, X_test, y_train, y_test = train_test_split(X, y, test_size=0.3, random_state=0)\n",
    "\n",
    "#training dataset= 70%\n",
    "#testign data = 30%\n",
    "# Initialize DecisionTreeClassifier()\n",
    "dt = DecisionTreeClassifier()\n",
    "\n",
    "# Train a decision tree model\n",
    "dt.fit(X_train, y_train)"
   ]
  },
  {
   "cell_type": "code",
   "execution_count": 62,
   "metadata": {},
   "outputs": [
    {
     "name": "stdout",
     "output_type": "stream",
     "text": [
      "<class 'pandas.core.frame.DataFrame'>\n",
      "Int64Index: 3880 entries, 0 to 5042\n",
      "Data columns (total 12 columns):\n",
      "num_critic_for_reviews       3880 non-null float64\n",
      "duration                     3880 non-null float64\n",
      "director_facebook_likes      3880 non-null float64\n",
      "actor_1_facebook_likes       3880 non-null float64\n",
      "gross                        3880 non-null float64\n",
      "num_voted_users              3880 non-null int64\n",
      "cast_total_facebook_likes    3880 non-null int64\n",
      "facenumber_in_poster         3880 non-null float64\n",
      "num_user_for_reviews         3880 non-null float64\n",
      "budget                       3880 non-null float64\n",
      "movie_facebook_likes         3880 non-null int64\n",
      "category                     3880 non-null int64\n",
      "dtypes: float64(8), int64(4)\n",
      "memory usage: 394.1 KB\n"
     ]
    }
   ],
   "source": [
    "df.info()"
   ]
  },
  {
   "cell_type": "code",
   "execution_count": 63,
   "metadata": {},
   "outputs": [
    {
     "name": "stdout",
     "output_type": "stream",
     "text": [
      "2716 2716\n",
      "1164 1164\n"
     ]
    }
   ],
   "source": [
    "print len(X_train), len(y_train)\n",
    "print len(X_test), len(y_test)"
   ]
  },
  {
   "cell_type": "code",
   "execution_count": 64,
   "metadata": {},
   "outputs": [
    {
     "name": "stdout",
     "output_type": "stream",
     "text": [
      "0.7087628865979382\n",
      "--------------------------------------------------------\n",
      "[[201 163   1]\n",
      " [145 599  11]\n",
      " [  0  19  25]]\n",
      "--------------------------------------------------------\n",
      "             precision    recall  f1-score   support\n",
      "\n",
      "          1       0.58      0.55      0.57       365\n",
      "          3       0.77      0.79      0.78       755\n",
      "          4       0.68      0.57      0.62        44\n",
      "\n",
      "avg / total       0.71      0.71      0.71      1164\n",
      "\n"
     ]
    }
   ],
   "source": [
    "#for validating your classification model\n",
    "from sklearn.metrics import classification_report, f1_score, accuracy_score, confusion_matrix\n",
    "from sklearn.model_selection import StratifiedKFold, cross_val_score, train_test_split, GridSearchCV \n",
    "from sklearn import metrics\n",
    "from sklearn.metrics import roc_curve, auc\n",
    "#Model evaluation\n",
    "# http://scikit-learn.org/stable/modules/model_evaluation.html\n",
    "print metrics.accuracy_score(y_test, dt.predict(X_test))\n",
    "print \"--------------------------------------------------------\"\n",
    "print metrics.confusion_matrix(y_test, dt.predict(X_test)) \n",
    "print \"--------------------------------------------------------\"\n",
    "print metrics.classification_report(y_test, dt.predict(X_test))"
   ]
  },
  {
   "cell_type": "markdown",
   "metadata": {},
   "source": [
    "### Knn"
   ]
  },
  {
   "cell_type": "code",
   "execution_count": 65,
   "metadata": {},
   "outputs": [
    {
     "data": {
      "text/plain": [
       "KNeighborsClassifier(algorithm='auto', leaf_size=30, metric='minkowski',\n",
       "           metric_params=None, n_jobs=1, n_neighbors=3, p=2,\n",
       "           weights='uniform')"
      ]
     },
     "execution_count": 65,
     "metadata": {},
     "output_type": "execute_result"
    }
   ],
   "source": [
    "#import knn classifier\n",
    "from sklearn.neighbors import KNeighborsClassifier\n",
    "#knn\n",
    "# evaluate the model by splitting into train and test sets & develop knn model (name it as knn)\n",
    "X_train, X_test, y_train, y_test = train_test_split(X, y, test_size=0.3, random_state=0)\n",
    "\n",
    "# initialize KNeighborsClassifier() and train a KNN Model\n",
    "knn = KNeighborsClassifier(n_neighbors=3)\n",
    "\n",
    "knn.fit(X_train, y_train)"
   ]
  },
  {
   "cell_type": "code",
   "execution_count": 66,
   "metadata": {},
   "outputs": [
    {
     "name": "stdout",
     "output_type": "stream",
     "text": [
      "0.6116838487972509\n",
      "--------------------------------------------------------\n",
      "[[127 238   0]\n",
      " [170 580   5]\n",
      " [  9  30   5]]\n",
      "--------------------------------------------------------\n",
      "             precision    recall  f1-score   support\n",
      "\n",
      "          1       0.42      0.35      0.38       365\n",
      "          3       0.68      0.77      0.72       755\n",
      "          4       0.50      0.11      0.19        44\n",
      "\n",
      "avg / total       0.59      0.61      0.60      1164\n",
      "\n"
     ]
    }
   ],
   "source": [
    "#Model evaluation with split valdation\n",
    "print metrics.accuracy_score(y_test, knn.predict(X_test))\n",
    "print \"--------------------------------------------------------\"\n",
    "print metrics.confusion_matrix(y_test, knn.predict(X_test)) \n",
    "print \"--------------------------------------------------------\"\n",
    "print metrics.classification_report(y_test, knn.predict(X_test))"
   ]
  },
  {
   "cell_type": "markdown",
   "metadata": {},
   "source": [
    "### Logistic Regression"
   ]
  },
  {
   "cell_type": "code",
   "execution_count": 67,
   "metadata": {},
   "outputs": [
    {
     "data": {
      "text/plain": [
       "LogisticRegression(C=1.0, class_weight=None, dual=False, fit_intercept=True,\n",
       "          intercept_scaling=1, max_iter=100, multi_class='ovr', n_jobs=1,\n",
       "          penalty='l2', random_state=None, solver='liblinear', tol=0.0001,\n",
       "          verbose=0, warm_start=False)"
      ]
     },
     "execution_count": 67,
     "metadata": {},
     "output_type": "execute_result"
    }
   ],
   "source": [
    "#import logisticregression classifier\n",
    "from sklearn.linear_model import LogisticRegression\n",
    "import statsmodels.api as sm\n",
    "#logistic regression\n",
    "# evaluate the model by splitting into train and test sets and build a logistic regression model\n",
    "# name it as \"lr\"\n",
    "X_train, X_test, y_train, y_test = train_test_split(X, y, test_size=0.3, random_state=0)\n",
    "\n",
    "lr = LogisticRegression()\n",
    "lr.fit(X_train, y_train)"
   ]
  },
  {
   "cell_type": "code",
   "execution_count": 68,
   "metadata": {},
   "outputs": [
    {
     "name": "stdout",
     "output_type": "stream",
     "text": [
      "0.6237113402061856\n",
      "--------------------------------------------------------\n",
      "[[ 13 351   1]\n",
      " [ 11 691  53]\n",
      " [  0  22  22]]\n",
      "--------------------------------------------------------\n",
      "             precision    recall  f1-score   support\n",
      "\n",
      "          1       0.54      0.04      0.07       365\n",
      "          3       0.65      0.92      0.76       755\n",
      "          4       0.29      0.50      0.37        44\n",
      "\n",
      "avg / total       0.60      0.62      0.53      1164\n",
      "\n"
     ]
    }
   ],
   "source": [
    "#Model evaluation\n",
    "print metrics.accuracy_score(y_test, lr.predict(X_test))\n",
    "print \"--------------------------------------------------------\"\n",
    "print metrics.confusion_matrix(y_test, lr.predict(X_test)) \n",
    "print \"--------------------------------------------------------\"\n",
    "print metrics.classification_report(y_test, lr.predict(X_test))"
   ]
  },
  {
   "cell_type": "code",
   "execution_count": 69,
   "metadata": {},
   "outputs": [
    {
     "name": "stdout",
     "output_type": "stream",
     "text": [
      "[[0.39885673 0.43923931 0.16190396]\n",
      " [0.41396647 0.46132125 0.12471227]\n",
      " [0.14091535 0.72759445 0.13149021]\n",
      " ...\n",
      " [0.4205969  0.48866196 0.09074115]\n",
      " [0.23754784 0.75764197 0.00481019]\n",
      " [0.28804941 0.35784181 0.35410878]]\n"
     ]
    }
   ],
   "source": [
    "# generate class probabilities\n",
    "probs = lr.predict_proba(X_test)\n",
    "print probs"
   ]
  },
  {
   "cell_type": "markdown",
   "metadata": {},
   "source": [
    "### Random Forest"
   ]
  },
  {
   "cell_type": "code",
   "execution_count": 70,
   "metadata": {},
   "outputs": [
    {
     "data": {
      "text/plain": [
       "0.7585910652920962"
      ]
     },
     "execution_count": 70,
     "metadata": {},
     "output_type": "execute_result"
    }
   ],
   "source": [
    "#random forest\n",
    "from sklearn.ensemble import RandomForestClassifier\n",
    "\n",
    "clf = RandomForestClassifier(n_estimators=20)    #building 20 decision trees\n",
    "clf=clf.fit(X_train, y_train)\n",
    "clf.score(X_test, y_test)"
   ]
  },
  {
   "cell_type": "code",
   "execution_count": 71,
   "metadata": {},
   "outputs": [
    {
     "name": "stdout",
     "output_type": "stream",
     "text": [
      "0.7585910652920962\n",
      "[[196 169   0]\n",
      " [ 82 669   4]\n",
      " [  0  26  18]]\n",
      "             precision    recall  f1-score   support\n",
      "\n",
      "          1       0.71      0.54      0.61       365\n",
      "          3       0.77      0.89      0.83       755\n",
      "          4       0.82      0.41      0.55        44\n",
      "\n",
      "avg / total       0.75      0.76      0.75      1164\n",
      "\n"
     ]
    }
   ],
   "source": [
    "# generate evaluation metrics\n",
    "print metrics.accuracy_score(y_test, clf.predict(X_test)) #overall accuracy\n",
    "print metrics.confusion_matrix(y_test, clf.predict(X_test))\n",
    "print metrics.classification_report(y_test, clf.predict(X_test))"
   ]
  },
  {
   "cell_type": "markdown",
   "metadata": {},
   "source": [
    "### Feature selection"
   ]
  },
  {
   "cell_type": "code",
   "execution_count": 72,
   "metadata": {},
   "outputs": [
    {
     "name": "stdout",
     "output_type": "stream",
     "text": [
      "Features sorted by their rank:\n",
      "[(0.0356, 'facenumber_in_poster'), (0.0685, 'actor_1_facebook_likes'), (0.0702, 'movie_facebook_likes'), (0.0733, 'director_facebook_likes'), (0.0911, 'cast_total_facebook_likes'), (0.1001, 'num_user_for_reviews'), (0.1037, 'budget'), (0.1147, 'gross'), (0.1283, 'duration'), (0.2144, 'num_voted_users')]\n"
     ]
    }
   ],
   "source": [
    "#feature selection\n",
    "print \"Features sorted by their rank:\"\n",
    "print sorted(zip(map(lambda x: round(x, 4), clf.feature_importances_), X.columns))"
   ]
  },
  {
   "cell_type": "code",
   "execution_count": 73,
   "metadata": {},
   "outputs": [
    {
     "data": {
      "text/html": [
       "<div>\n",
       "<style scoped>\n",
       "    .dataframe tbody tr th:only-of-type {\n",
       "        vertical-align: middle;\n",
       "    }\n",
       "\n",
       "    .dataframe tbody tr th {\n",
       "        vertical-align: top;\n",
       "    }\n",
       "\n",
       "    .dataframe thead th {\n",
       "        text-align: right;\n",
       "    }\n",
       "</style>\n",
       "<table border=\"1\" class=\"dataframe\">\n",
       "  <thead>\n",
       "    <tr style=\"text-align: right;\">\n",
       "      <th></th>\n",
       "      <th>feature</th>\n",
       "      <th>importance</th>\n",
       "    </tr>\n",
       "  </thead>\n",
       "  <tbody>\n",
       "    <tr>\n",
       "      <th>4</th>\n",
       "      <td>num_voted_users</td>\n",
       "      <td>0.214435</td>\n",
       "    </tr>\n",
       "    <tr>\n",
       "      <th>0</th>\n",
       "      <td>duration</td>\n",
       "      <td>0.128264</td>\n",
       "    </tr>\n",
       "    <tr>\n",
       "      <th>3</th>\n",
       "      <td>gross</td>\n",
       "      <td>0.114704</td>\n",
       "    </tr>\n",
       "    <tr>\n",
       "      <th>8</th>\n",
       "      <td>budget</td>\n",
       "      <td>0.103717</td>\n",
       "    </tr>\n",
       "    <tr>\n",
       "      <th>7</th>\n",
       "      <td>num_user_for_reviews</td>\n",
       "      <td>0.100063</td>\n",
       "    </tr>\n",
       "    <tr>\n",
       "      <th>5</th>\n",
       "      <td>cast_total_facebook_likes</td>\n",
       "      <td>0.091136</td>\n",
       "    </tr>\n",
       "    <tr>\n",
       "      <th>1</th>\n",
       "      <td>director_facebook_likes</td>\n",
       "      <td>0.073311</td>\n",
       "    </tr>\n",
       "    <tr>\n",
       "      <th>9</th>\n",
       "      <td>movie_facebook_likes</td>\n",
       "      <td>0.070207</td>\n",
       "    </tr>\n",
       "    <tr>\n",
       "      <th>2</th>\n",
       "      <td>actor_1_facebook_likes</td>\n",
       "      <td>0.068522</td>\n",
       "    </tr>\n",
       "    <tr>\n",
       "      <th>6</th>\n",
       "      <td>facenumber_in_poster</td>\n",
       "      <td>0.035640</td>\n",
       "    </tr>\n",
       "  </tbody>\n",
       "</table>\n",
       "</div>"
      ],
      "text/plain": [
       "                     feature  importance\n",
       "4            num_voted_users    0.214435\n",
       "0                   duration    0.128264\n",
       "3                      gross    0.114704\n",
       "8                     budget    0.103717\n",
       "7       num_user_for_reviews    0.100063\n",
       "5  cast_total_facebook_likes    0.091136\n",
       "1    director_facebook_likes    0.073311\n",
       "9       movie_facebook_likes    0.070207\n",
       "2     actor_1_facebook_likes    0.068522\n",
       "6       facenumber_in_poster    0.035640"
      ]
     },
     "execution_count": 73,
     "metadata": {},
     "output_type": "execute_result"
    }
   ],
   "source": [
    "# another method\n",
    "pd.DataFrame({'feature':X.columns, 'importance':clf.feature_importances_}).\\\n",
    "                                                    sort_values('importance',ascending=False)"
   ]
  },
  {
   "cell_type": "code",
   "execution_count": 74,
   "metadata": {},
   "outputs": [
    {
     "data": {
      "text/plain": [
       "array([[0.5 , 0.5 , 0.  ],\n",
       "       [0.25, 0.75, 0.  ],\n",
       "       [0.  , 1.  , 0.  ],\n",
       "       ...,\n",
       "       [0.85, 0.15, 0.  ],\n",
       "       [0.  , 0.9 , 0.1 ],\n",
       "       [0.1 , 0.9 , 0.  ]])"
      ]
     },
     "execution_count": 74,
     "metadata": {},
     "output_type": "execute_result"
    }
   ],
   "source": [
    "#Predict class probabilities for X\n",
    "clf.predict_proba(X_test)"
   ]
  },
  {
   "cell_type": "markdown",
   "metadata": {},
   "source": [
    "From classification analyses I got almost same result. The most importance features are num_voted_users and duration. Accuracy is almost 76% using random forest analyse. It means, that lots of data were correclty classified. We can say that variables num_voted_users and movie duration are the most important."
   ]
  },
  {
   "cell_type": "markdown",
   "metadata": {},
   "source": [
    "# 8. Clustering"
   ]
  },
  {
   "cell_type": "code",
   "execution_count": 75,
   "metadata": {},
   "outputs": [
    {
     "data": {
      "text/html": [
       "<div>\n",
       "<style scoped>\n",
       "    .dataframe tbody tr th:only-of-type {\n",
       "        vertical-align: middle;\n",
       "    }\n",
       "\n",
       "    .dataframe tbody tr th {\n",
       "        vertical-align: top;\n",
       "    }\n",
       "\n",
       "    .dataframe thead th {\n",
       "        text-align: right;\n",
       "    }\n",
       "</style>\n",
       "<table border=\"1\" class=\"dataframe\">\n",
       "  <thead>\n",
       "    <tr style=\"text-align: right;\">\n",
       "      <th></th>\n",
       "      <th>num_critic_for_reviews</th>\n",
       "      <th>duration</th>\n",
       "      <th>director_facebook_likes</th>\n",
       "      <th>actor_1_facebook_likes</th>\n",
       "      <th>gross</th>\n",
       "      <th>num_voted_users</th>\n",
       "      <th>cast_total_facebook_likes</th>\n",
       "      <th>facenumber_in_poster</th>\n",
       "      <th>num_user_for_reviews</th>\n",
       "      <th>budget</th>\n",
       "      <th>movie_facebook_likes</th>\n",
       "      <th>category</th>\n",
       "    </tr>\n",
       "  </thead>\n",
       "  <tbody>\n",
       "    <tr>\n",
       "      <th>0</th>\n",
       "      <td>0.689335</td>\n",
       "      <td>0.230059</td>\n",
       "      <td>-0.034057</td>\n",
       "      <td>-0.010301</td>\n",
       "      <td>0.932891</td>\n",
       "      <td>0.463706</td>\n",
       "      <td>-0.009821</td>\n",
       "      <td>-0.032085</td>\n",
       "      <td>0.538919</td>\n",
       "      <td>0.015699</td>\n",
       "      <td>0.068481</td>\n",
       "      <td>0.189003</td>\n",
       "    </tr>\n",
       "    <tr>\n",
       "      <th>1</th>\n",
       "      <td>0.170862</td>\n",
       "      <td>0.199653</td>\n",
       "      <td>-0.009579</td>\n",
       "      <td>0.050636</td>\n",
       "      <td>0.339731</td>\n",
       "      <td>0.218118</td>\n",
       "      <td>0.056440</td>\n",
       "      <td>-0.032085</td>\n",
       "      <td>0.179954</td>\n",
       "      <td>0.020857</td>\n",
       "      <td>-0.026075</td>\n",
       "      <td>0.189003</td>\n",
       "    </tr>\n",
       "    <tr>\n",
       "      <th>2</th>\n",
       "      <td>0.540320</td>\n",
       "      <td>0.128708</td>\n",
       "      <td>-0.034057</td>\n",
       "      <td>0.005324</td>\n",
       "      <td>0.195971</td>\n",
       "      <td>0.102509</td>\n",
       "      <td>0.000633</td>\n",
       "      <td>-0.008829</td>\n",
       "      <td>0.131723</td>\n",
       "      <td>0.016354</td>\n",
       "      <td>0.217478</td>\n",
       "      <td>0.189003</td>\n",
       "    </tr>\n",
       "    <tr>\n",
       "      <th>3</th>\n",
       "      <td>0.800173</td>\n",
       "      <td>0.182762</td>\n",
       "      <td>0.922464</td>\n",
       "      <td>0.030324</td>\n",
       "      <td>0.522144</td>\n",
       "      <td>0.616469</td>\n",
       "      <td>0.145379</td>\n",
       "      <td>-0.032085</td>\n",
       "      <td>0.469142</td>\n",
       "      <td>0.016763</td>\n",
       "      <td>0.443839</td>\n",
       "      <td>0.522337</td>\n",
       "    </tr>\n",
       "    <tr>\n",
       "      <th>5</th>\n",
       "      <td>0.367907</td>\n",
       "      <td>0.074653</td>\n",
       "      <td>-0.013405</td>\n",
       "      <td>-0.010864</td>\n",
       "      <td>0.028957</td>\n",
       "      <td>0.064832</td>\n",
       "      <td>-0.014330</td>\n",
       "      <td>-0.008829</td>\n",
       "      <td>0.081121</td>\n",
       "      <td>0.017885</td>\n",
       "      <td>0.042693</td>\n",
       "      <td>0.189003</td>\n",
       "    </tr>\n",
       "  </tbody>\n",
       "</table>\n",
       "</div>"
      ],
      "text/plain": [
       "   num_critic_for_reviews  duration  director_facebook_likes  \\\n",
       "0                0.689335  0.230059                -0.034057   \n",
       "1                0.170862  0.199653                -0.009579   \n",
       "2                0.540320  0.128708                -0.034057   \n",
       "3                0.800173  0.182762                 0.922464   \n",
       "5                0.367907  0.074653                -0.013405   \n",
       "\n",
       "   actor_1_facebook_likes     gross  num_voted_users  \\\n",
       "0               -0.010301  0.932891         0.463706   \n",
       "1                0.050636  0.339731         0.218118   \n",
       "2                0.005324  0.195971         0.102509   \n",
       "3                0.030324  0.522144         0.616469   \n",
       "5               -0.010864  0.028957         0.064832   \n",
       "\n",
       "   cast_total_facebook_likes  facenumber_in_poster  num_user_for_reviews  \\\n",
       "0                  -0.009821             -0.032085              0.538919   \n",
       "1                   0.056440             -0.032085              0.179954   \n",
       "2                   0.000633             -0.008829              0.131723   \n",
       "3                   0.145379             -0.032085              0.469142   \n",
       "5                  -0.014330             -0.008829              0.081121   \n",
       "\n",
       "     budget  movie_facebook_likes  category  \n",
       "0  0.015699              0.068481  0.189003  \n",
       "1  0.020857             -0.026075  0.189003  \n",
       "2  0.016354              0.217478  0.189003  \n",
       "3  0.016763              0.443839  0.522337  \n",
       "5  0.017885              0.042693  0.189003  "
      ]
     },
     "execution_count": 75,
     "metadata": {},
     "output_type": "execute_result"
    }
   ],
   "source": [
    "df_norm = (df - df.mean()) / (df.max() - df.min())\n",
    "df_norm.head()"
   ]
  },
  {
   "cell_type": "code",
   "execution_count": 76,
   "metadata": {},
   "outputs": [
    {
     "data": {
      "text/plain": [
       "num_critic_for_reviews       0.023249\n",
       "duration                     0.005880\n",
       "director_facebook_likes      0.017260\n",
       "actor_1_facebook_likes       0.000577\n",
       "gross                        0.008412\n",
       "num_voted_users              0.007945\n",
       "cast_total_facebook_likes    0.000832\n",
       "facenumber_in_poster         0.002285\n",
       "num_user_for_reviews         0.006505\n",
       "budget                       0.000332\n",
       "movie_facebook_likes         0.003682\n",
       "category                     0.104224\n",
       "dtype: float64"
      ]
     },
     "execution_count": 76,
     "metadata": {},
     "output_type": "execute_result"
    }
   ],
   "source": [
    "df_norm.var()"
   ]
  },
  {
   "cell_type": "markdown",
   "metadata": {},
   "source": [
    "### K-Mean clustering"
   ]
  },
  {
   "cell_type": "code",
   "execution_count": 77,
   "metadata": {},
   "outputs": [
    {
     "data": {
      "text/plain": [
       "KMeans(algorithm='auto', copy_x=True, init='k-means++', max_iter=300,\n",
       "    n_clusters=2, n_init=10, n_jobs=1, precompute_distances='auto',\n",
       "    random_state=0, tol=0.0001, verbose=0)"
      ]
     },
     "execution_count": 77,
     "metadata": {},
     "output_type": "execute_result"
    }
   ],
   "source": [
    "from sklearn.cluster import KMeans\n",
    "from sklearn.cluster import AgglomerativeClustering\n",
    "from sklearn.metrics import pairwise_distances\n",
    "# clustering analysis using k-means\n",
    "k_means_orig = KMeans(init='k-means++', n_clusters=2, random_state=0)\n",
    "k_means_orig.fit(df)"
   ]
  },
  {
   "cell_type": "code",
   "execution_count": 78,
   "metadata": {},
   "outputs": [
    {
     "data": {
      "text/plain": [
       "array([0, 0, 0, ..., 0, 0, 0])"
      ]
     },
     "execution_count": 78,
     "metadata": {},
     "output_type": "execute_result"
    }
   ],
   "source": [
    "# cluster labels\n",
    "\n",
    "k_means_orig.labels_"
   ]
  },
  {
   "cell_type": "code",
   "execution_count": 79,
   "metadata": {},
   "outputs": [
    {
     "data": {
      "text/plain": [
       "array([[1.63208301e+02, 1.09902552e+02, 7.83370972e+02, 7.59467028e+03,\n",
       "        5.10494951e+07, 1.02661997e+05, 1.12866406e+04, 1.37999484e+00,\n",
       "        3.27623357e+02, 4.20889489e+07, 9.10081593e+03, 2.43284352e+00],\n",
       "       [3.63000000e+02, 1.10000000e+02, 5.84000000e+02, 6.29000000e+02,\n",
       "        2.20141200e+06, 6.88830000e+04, 1.17300000e+03, 0.00000000e+00,\n",
       "        2.79000000e+02, 1.22155000e+10, 7.00000000e+03, 3.00000000e+00]])"
      ]
     },
     "execution_count": 79,
     "metadata": {},
     "output_type": "execute_result"
    }
   ],
   "source": [
    "# find out cluster centers\n",
    "\n",
    "k_means_orig.cluster_centers_"
   ]
  },
  {
   "cell_type": "code",
   "execution_count": 80,
   "metadata": {},
   "outputs": [
    {
     "data": {
      "text/html": [
       "<div>\n",
       "<style scoped>\n",
       "    .dataframe tbody tr th:only-of-type {\n",
       "        vertical-align: middle;\n",
       "    }\n",
       "\n",
       "    .dataframe tbody tr th {\n",
       "        vertical-align: top;\n",
       "    }\n",
       "\n",
       "    .dataframe thead th {\n",
       "        text-align: right;\n",
       "    }\n",
       "</style>\n",
       "<table border=\"1\" class=\"dataframe\">\n",
       "  <thead>\n",
       "    <tr style=\"text-align: right;\">\n",
       "      <th></th>\n",
       "      <th>cluster</th>\n",
       "    </tr>\n",
       "  </thead>\n",
       "  <tbody>\n",
       "    <tr>\n",
       "      <th>0</th>\n",
       "      <td>0</td>\n",
       "    </tr>\n",
       "    <tr>\n",
       "      <th>1</th>\n",
       "      <td>0</td>\n",
       "    </tr>\n",
       "    <tr>\n",
       "      <th>2</th>\n",
       "      <td>0</td>\n",
       "    </tr>\n",
       "    <tr>\n",
       "      <th>3</th>\n",
       "      <td>0</td>\n",
       "    </tr>\n",
       "    <tr>\n",
       "      <th>4</th>\n",
       "      <td>0</td>\n",
       "    </tr>\n",
       "  </tbody>\n",
       "</table>\n",
       "</div>"
      ],
      "text/plain": [
       "   cluster\n",
       "0        0\n",
       "1        0\n",
       "2        0\n",
       "3        0\n",
       "4        0"
      ]
     },
     "execution_count": 80,
     "metadata": {},
     "output_type": "execute_result"
    }
   ],
   "source": [
    "#To add cluster label into the dataset as a column\n",
    "df1_orig = pd.DataFrame(k_means_orig.labels_, columns = ['cluster'])\n",
    "df1_orig.head()"
   ]
  },
  {
   "cell_type": "code",
   "execution_count": 81,
   "metadata": {},
   "outputs": [],
   "source": [
    "data = df.reset_index(drop=True)\n",
    "df1_orig = df1_orig.reset_index(drop=True)"
   ]
  },
  {
   "cell_type": "code",
   "execution_count": 82,
   "metadata": {},
   "outputs": [
    {
     "data": {
      "text/html": [
       "<div>\n",
       "<style scoped>\n",
       "    .dataframe tbody tr th:only-of-type {\n",
       "        vertical-align: middle;\n",
       "    }\n",
       "\n",
       "    .dataframe tbody tr th {\n",
       "        vertical-align: top;\n",
       "    }\n",
       "\n",
       "    .dataframe thead th {\n",
       "        text-align: right;\n",
       "    }\n",
       "</style>\n",
       "<table border=\"1\" class=\"dataframe\">\n",
       "  <thead>\n",
       "    <tr style=\"text-align: right;\">\n",
       "      <th></th>\n",
       "      <th>num_critic_for_reviews</th>\n",
       "      <th>duration</th>\n",
       "      <th>director_facebook_likes</th>\n",
       "      <th>actor_1_facebook_likes</th>\n",
       "      <th>gross</th>\n",
       "      <th>num_voted_users</th>\n",
       "      <th>cast_total_facebook_likes</th>\n",
       "      <th>facenumber_in_poster</th>\n",
       "      <th>num_user_for_reviews</th>\n",
       "      <th>budget</th>\n",
       "      <th>movie_facebook_likes</th>\n",
       "      <th>category</th>\n",
       "      <th>cluster</th>\n",
       "    </tr>\n",
       "  </thead>\n",
       "  <tbody>\n",
       "    <tr>\n",
       "      <th>0</th>\n",
       "      <td>723.0</td>\n",
       "      <td>178.0</td>\n",
       "      <td>0.0</td>\n",
       "      <td>1000.0</td>\n",
       "      <td>760505847.0</td>\n",
       "      <td>886204</td>\n",
       "      <td>4834</td>\n",
       "      <td>0.0</td>\n",
       "      <td>3054.0</td>\n",
       "      <td>237000000.0</td>\n",
       "      <td>33000</td>\n",
       "      <td>3</td>\n",
       "      <td>0</td>\n",
       "    </tr>\n",
       "    <tr>\n",
       "      <th>1</th>\n",
       "      <td>302.0</td>\n",
       "      <td>169.0</td>\n",
       "      <td>563.0</td>\n",
       "      <td>40000.0</td>\n",
       "      <td>309404152.0</td>\n",
       "      <td>471220</td>\n",
       "      <td>48350</td>\n",
       "      <td>0.0</td>\n",
       "      <td>1238.0</td>\n",
       "      <td>300000000.0</td>\n",
       "      <td>0</td>\n",
       "      <td>3</td>\n",
       "      <td>0</td>\n",
       "    </tr>\n",
       "    <tr>\n",
       "      <th>2</th>\n",
       "      <td>602.0</td>\n",
       "      <td>148.0</td>\n",
       "      <td>0.0</td>\n",
       "      <td>11000.0</td>\n",
       "      <td>200074175.0</td>\n",
       "      <td>275868</td>\n",
       "      <td>11700</td>\n",
       "      <td>1.0</td>\n",
       "      <td>994.0</td>\n",
       "      <td>245000000.0</td>\n",
       "      <td>85000</td>\n",
       "      <td>3</td>\n",
       "      <td>0</td>\n",
       "    </tr>\n",
       "    <tr>\n",
       "      <th>3</th>\n",
       "      <td>813.0</td>\n",
       "      <td>164.0</td>\n",
       "      <td>22000.0</td>\n",
       "      <td>27000.0</td>\n",
       "      <td>448130642.0</td>\n",
       "      <td>1144337</td>\n",
       "      <td>106759</td>\n",
       "      <td>0.0</td>\n",
       "      <td>2701.0</td>\n",
       "      <td>250000000.0</td>\n",
       "      <td>164000</td>\n",
       "      <td>4</td>\n",
       "      <td>0</td>\n",
       "    </tr>\n",
       "    <tr>\n",
       "      <th>4</th>\n",
       "      <td>462.0</td>\n",
       "      <td>132.0</td>\n",
       "      <td>475.0</td>\n",
       "      <td>640.0</td>\n",
       "      <td>73058679.0</td>\n",
       "      <td>212204</td>\n",
       "      <td>1873</td>\n",
       "      <td>1.0</td>\n",
       "      <td>738.0</td>\n",
       "      <td>263700000.0</td>\n",
       "      <td>24000</td>\n",
       "      <td>3</td>\n",
       "      <td>0</td>\n",
       "    </tr>\n",
       "  </tbody>\n",
       "</table>\n",
       "</div>"
      ],
      "text/plain": [
       "   num_critic_for_reviews  duration  director_facebook_likes  \\\n",
       "0                   723.0     178.0                      0.0   \n",
       "1                   302.0     169.0                    563.0   \n",
       "2                   602.0     148.0                      0.0   \n",
       "3                   813.0     164.0                  22000.0   \n",
       "4                   462.0     132.0                    475.0   \n",
       "\n",
       "   actor_1_facebook_likes        gross  num_voted_users  \\\n",
       "0                  1000.0  760505847.0           886204   \n",
       "1                 40000.0  309404152.0           471220   \n",
       "2                 11000.0  200074175.0           275868   \n",
       "3                 27000.0  448130642.0          1144337   \n",
       "4                   640.0   73058679.0           212204   \n",
       "\n",
       "   cast_total_facebook_likes  facenumber_in_poster  num_user_for_reviews  \\\n",
       "0                       4834                   0.0                3054.0   \n",
       "1                      48350                   0.0                1238.0   \n",
       "2                      11700                   1.0                 994.0   \n",
       "3                     106759                   0.0                2701.0   \n",
       "4                       1873                   1.0                 738.0   \n",
       "\n",
       "        budget  movie_facebook_likes  category  cluster  \n",
       "0  237000000.0                 33000         3        0  \n",
       "1  300000000.0                     0         3        0  \n",
       "2  245000000.0                 85000         3        0  \n",
       "3  250000000.0                164000         4        0  \n",
       "4  263700000.0                 24000         3        0  "
      ]
     },
     "execution_count": 82,
     "metadata": {},
     "output_type": "execute_result"
    }
   ],
   "source": [
    "df2_orig = data.join(df1_orig)\n",
    "df2_orig.head()"
   ]
  },
  {
   "cell_type": "markdown",
   "metadata": {},
   "source": [
    "with normalizing data"
   ]
  },
  {
   "cell_type": "code",
   "execution_count": 83,
   "metadata": {},
   "outputs": [
    {
     "data": {
      "text/plain": [
       "KMeans(algorithm='auto', copy_x=True, init='k-means++', max_iter=300,\n",
       "    n_clusters=2, n_init=10, n_jobs=1, precompute_distances='auto',\n",
       "    random_state=0, tol=0.0001, verbose=0)"
      ]
     },
     "execution_count": 83,
     "metadata": {},
     "output_type": "execute_result"
    }
   ],
   "source": [
    "# clustering analysis using k-means\n",
    "k_means_norm = KMeans(init='k-means++', n_clusters=2, random_state=0)\n",
    "k_means_norm.fit(df_norm)"
   ]
  },
  {
   "cell_type": "code",
   "execution_count": 84,
   "metadata": {},
   "outputs": [
    {
     "data": {
      "text/plain": [
       "array([0, 0, 0, ..., 0, 0, 0])"
      ]
     },
     "execution_count": 84,
     "metadata": {},
     "output_type": "execute_result"
    }
   ],
   "source": [
    "# cluster labels\n",
    "\n",
    "k_means_norm.labels_"
   ]
  },
  {
   "cell_type": "code",
   "execution_count": 85,
   "metadata": {},
   "outputs": [
    {
     "data": {
      "text/plain": [
       "array([[ 2.53650853e-02,  1.31491942e-02,  1.03563064e-02,\n",
       "         1.02356045e-03,  8.53451064e-03,  1.61617832e-02,\n",
       "         1.39530678e-03, -1.46174840e-03,  1.00134738e-02,\n",
       "         2.45448042e-04,  6.70018840e-03,  2.09010847e-01],\n",
       "       [-5.79681331e-02, -3.00505293e-02, -2.36677993e-02,\n",
       "        -2.33919530e-03, -1.95043558e-02, -3.69353539e-02,\n",
       "        -3.18876630e-03,  3.34060875e-03, -2.28843063e-02,\n",
       "        -5.60935025e-04, -1.53122849e-02, -4.77663230e-01]])"
      ]
     },
     "execution_count": 85,
     "metadata": {},
     "output_type": "execute_result"
    }
   ],
   "source": [
    "# find out cluster centers\n",
    "\n",
    "k_means_norm.cluster_centers_"
   ]
  },
  {
   "cell_type": "code",
   "execution_count": 86,
   "metadata": {},
   "outputs": [
    {
     "data": {
      "text/html": [
       "<div>\n",
       "<style scoped>\n",
       "    .dataframe tbody tr th:only-of-type {\n",
       "        vertical-align: middle;\n",
       "    }\n",
       "\n",
       "    .dataframe tbody tr th {\n",
       "        vertical-align: top;\n",
       "    }\n",
       "\n",
       "    .dataframe thead th {\n",
       "        text-align: right;\n",
       "    }\n",
       "</style>\n",
       "<table border=\"1\" class=\"dataframe\">\n",
       "  <thead>\n",
       "    <tr style=\"text-align: right;\">\n",
       "      <th></th>\n",
       "      <th>cluster</th>\n",
       "    </tr>\n",
       "  </thead>\n",
       "  <tbody>\n",
       "    <tr>\n",
       "      <th>0</th>\n",
       "      <td>0</td>\n",
       "    </tr>\n",
       "    <tr>\n",
       "      <th>1</th>\n",
       "      <td>0</td>\n",
       "    </tr>\n",
       "    <tr>\n",
       "      <th>2</th>\n",
       "      <td>0</td>\n",
       "    </tr>\n",
       "    <tr>\n",
       "      <th>3</th>\n",
       "      <td>0</td>\n",
       "    </tr>\n",
       "    <tr>\n",
       "      <th>4</th>\n",
       "      <td>0</td>\n",
       "    </tr>\n",
       "  </tbody>\n",
       "</table>\n",
       "</div>"
      ],
      "text/plain": [
       "   cluster\n",
       "0        0\n",
       "1        0\n",
       "2        0\n",
       "3        0\n",
       "4        0"
      ]
     },
     "execution_count": 86,
     "metadata": {},
     "output_type": "execute_result"
    }
   ],
   "source": [
    "# convert cluster lables to dataframe\n",
    "\n",
    "df1_norm = pd.DataFrame(k_means_norm.labels_, columns = ['cluster'])\n",
    "df1_norm.head()"
   ]
  },
  {
   "cell_type": "code",
   "execution_count": 87,
   "metadata": {},
   "outputs": [
    {
     "data": {
      "text/html": [
       "<div>\n",
       "<style scoped>\n",
       "    .dataframe tbody tr th:only-of-type {\n",
       "        vertical-align: middle;\n",
       "    }\n",
       "\n",
       "    .dataframe tbody tr th {\n",
       "        vertical-align: top;\n",
       "    }\n",
       "\n",
       "    .dataframe thead th {\n",
       "        text-align: right;\n",
       "    }\n",
       "</style>\n",
       "<table border=\"1\" class=\"dataframe\">\n",
       "  <thead>\n",
       "    <tr style=\"text-align: right;\">\n",
       "      <th></th>\n",
       "      <th>num_critic_for_reviews</th>\n",
       "      <th>duration</th>\n",
       "      <th>director_facebook_likes</th>\n",
       "      <th>actor_1_facebook_likes</th>\n",
       "      <th>gross</th>\n",
       "      <th>num_voted_users</th>\n",
       "      <th>cast_total_facebook_likes</th>\n",
       "      <th>facenumber_in_poster</th>\n",
       "      <th>num_user_for_reviews</th>\n",
       "      <th>budget</th>\n",
       "      <th>movie_facebook_likes</th>\n",
       "      <th>category</th>\n",
       "      <th>cluster</th>\n",
       "    </tr>\n",
       "  </thead>\n",
       "  <tbody>\n",
       "    <tr>\n",
       "      <th>0</th>\n",
       "      <td>0.689335</td>\n",
       "      <td>0.230059</td>\n",
       "      <td>-0.034057</td>\n",
       "      <td>-0.010301</td>\n",
       "      <td>0.932891</td>\n",
       "      <td>0.463706</td>\n",
       "      <td>-0.009821</td>\n",
       "      <td>-0.032085</td>\n",
       "      <td>0.538919</td>\n",
       "      <td>0.015699</td>\n",
       "      <td>0.068481</td>\n",
       "      <td>0.189003</td>\n",
       "      <td>0.0</td>\n",
       "    </tr>\n",
       "    <tr>\n",
       "      <th>1</th>\n",
       "      <td>0.170862</td>\n",
       "      <td>0.199653</td>\n",
       "      <td>-0.009579</td>\n",
       "      <td>0.050636</td>\n",
       "      <td>0.339731</td>\n",
       "      <td>0.218118</td>\n",
       "      <td>0.056440</td>\n",
       "      <td>-0.032085</td>\n",
       "      <td>0.179954</td>\n",
       "      <td>0.020857</td>\n",
       "      <td>-0.026075</td>\n",
       "      <td>0.189003</td>\n",
       "      <td>0.0</td>\n",
       "    </tr>\n",
       "    <tr>\n",
       "      <th>2</th>\n",
       "      <td>0.540320</td>\n",
       "      <td>0.128708</td>\n",
       "      <td>-0.034057</td>\n",
       "      <td>0.005324</td>\n",
       "      <td>0.195971</td>\n",
       "      <td>0.102509</td>\n",
       "      <td>0.000633</td>\n",
       "      <td>-0.008829</td>\n",
       "      <td>0.131723</td>\n",
       "      <td>0.016354</td>\n",
       "      <td>0.217478</td>\n",
       "      <td>0.189003</td>\n",
       "      <td>0.0</td>\n",
       "    </tr>\n",
       "    <tr>\n",
       "      <th>3</th>\n",
       "      <td>0.800173</td>\n",
       "      <td>0.182762</td>\n",
       "      <td>0.922464</td>\n",
       "      <td>0.030324</td>\n",
       "      <td>0.522144</td>\n",
       "      <td>0.616469</td>\n",
       "      <td>0.145379</td>\n",
       "      <td>-0.032085</td>\n",
       "      <td>0.469142</td>\n",
       "      <td>0.016763</td>\n",
       "      <td>0.443839</td>\n",
       "      <td>0.522337</td>\n",
       "      <td>0.0</td>\n",
       "    </tr>\n",
       "    <tr>\n",
       "      <th>5</th>\n",
       "      <td>0.367907</td>\n",
       "      <td>0.074653</td>\n",
       "      <td>-0.013405</td>\n",
       "      <td>-0.010864</td>\n",
       "      <td>0.028957</td>\n",
       "      <td>0.064832</td>\n",
       "      <td>-0.014330</td>\n",
       "      <td>-0.008829</td>\n",
       "      <td>0.081121</td>\n",
       "      <td>0.017885</td>\n",
       "      <td>0.042693</td>\n",
       "      <td>0.189003</td>\n",
       "      <td>0.0</td>\n",
       "    </tr>\n",
       "  </tbody>\n",
       "</table>\n",
       "</div>"
      ],
      "text/plain": [
       "   num_critic_for_reviews  duration  director_facebook_likes  \\\n",
       "0                0.689335  0.230059                -0.034057   \n",
       "1                0.170862  0.199653                -0.009579   \n",
       "2                0.540320  0.128708                -0.034057   \n",
       "3                0.800173  0.182762                 0.922464   \n",
       "5                0.367907  0.074653                -0.013405   \n",
       "\n",
       "   actor_1_facebook_likes     gross  num_voted_users  \\\n",
       "0               -0.010301  0.932891         0.463706   \n",
       "1                0.050636  0.339731         0.218118   \n",
       "2                0.005324  0.195971         0.102509   \n",
       "3                0.030324  0.522144         0.616469   \n",
       "5               -0.010864  0.028957         0.064832   \n",
       "\n",
       "   cast_total_facebook_likes  facenumber_in_poster  num_user_for_reviews  \\\n",
       "0                  -0.009821             -0.032085              0.538919   \n",
       "1                   0.056440             -0.032085              0.179954   \n",
       "2                   0.000633             -0.008829              0.131723   \n",
       "3                   0.145379             -0.032085              0.469142   \n",
       "5                  -0.014330             -0.008829              0.081121   \n",
       "\n",
       "     budget  movie_facebook_likes  category  cluster  \n",
       "0  0.015699              0.068481  0.189003      0.0  \n",
       "1  0.020857             -0.026075  0.189003      0.0  \n",
       "2  0.016354              0.217478  0.189003      0.0  \n",
       "3  0.016763              0.443839  0.522337      0.0  \n",
       "5  0.017885              0.042693  0.189003      0.0  "
      ]
     },
     "execution_count": 87,
     "metadata": {},
     "output_type": "execute_result"
    }
   ],
   "source": [
    "df2_norm = df_norm.join(df1_norm)\n",
    "df2_norm.head()"
   ]
  },
  {
   "cell_type": "code",
   "execution_count": 88,
   "metadata": {},
   "outputs": [
    {
     "data": {
      "text/plain": [
       "cluster\n",
       "0.0    2285\n",
       "1.0    1028\n",
       "dtype: int64"
      ]
     },
     "execution_count": 88,
     "metadata": {},
     "output_type": "execute_result"
    }
   ],
   "source": [
    "df2_norm.groupby(['cluster']).size()"
   ]
  },
  {
   "cell_type": "code",
   "execution_count": 89,
   "metadata": {},
   "outputs": [
    {
     "data": {
      "text/html": [
       "<div>\n",
       "<style scoped>\n",
       "    .dataframe tbody tr th:only-of-type {\n",
       "        vertical-align: middle;\n",
       "    }\n",
       "\n",
       "    .dataframe tbody tr th {\n",
       "        vertical-align: top;\n",
       "    }\n",
       "\n",
       "    .dataframe thead th {\n",
       "        text-align: right;\n",
       "    }\n",
       "</style>\n",
       "<table border=\"1\" class=\"dataframe\">\n",
       "  <thead>\n",
       "    <tr style=\"text-align: right;\">\n",
       "      <th></th>\n",
       "      <th>num_critic_for_reviews</th>\n",
       "      <th>duration</th>\n",
       "      <th>director_facebook_likes</th>\n",
       "      <th>actor_1_facebook_likes</th>\n",
       "      <th>gross</th>\n",
       "      <th>num_voted_users</th>\n",
       "      <th>cast_total_facebook_likes</th>\n",
       "      <th>facenumber_in_poster</th>\n",
       "      <th>num_user_for_reviews</th>\n",
       "      <th>budget</th>\n",
       "      <th>movie_facebook_likes</th>\n",
       "      <th>category</th>\n",
       "    </tr>\n",
       "    <tr>\n",
       "      <th>cluster</th>\n",
       "      <th></th>\n",
       "      <th></th>\n",
       "      <th></th>\n",
       "      <th></th>\n",
       "      <th></th>\n",
       "      <th></th>\n",
       "      <th></th>\n",
       "      <th></th>\n",
       "      <th></th>\n",
       "      <th></th>\n",
       "      <th></th>\n",
       "      <th></th>\n",
       "    </tr>\n",
       "  </thead>\n",
       "  <tbody>\n",
       "    <tr>\n",
       "      <th>0.0</th>\n",
       "      <td>0.014333</td>\n",
       "      <td>0.007589</td>\n",
       "      <td>0.002721</td>\n",
       "      <td>0.001195</td>\n",
       "      <td>0.009913</td>\n",
       "      <td>0.007779</td>\n",
       "      <td>0.001762</td>\n",
       "      <td>0.000016</td>\n",
       "      <td>0.007140</td>\n",
       "      <td>0.000348</td>\n",
       "      <td>0.002881</td>\n",
       "      <td>0.002716</td>\n",
       "    </tr>\n",
       "    <tr>\n",
       "      <th>1.0</th>\n",
       "      <td>0.001223</td>\n",
       "      <td>0.002370</td>\n",
       "      <td>0.005878</td>\n",
       "      <td>0.000342</td>\n",
       "      <td>0.005278</td>\n",
       "      <td>0.001649</td>\n",
       "      <td>0.000840</td>\n",
       "      <td>0.002618</td>\n",
       "      <td>-0.001269</td>\n",
       "      <td>0.000940</td>\n",
       "      <td>0.000509</td>\n",
       "      <td>-0.028571</td>\n",
       "    </tr>\n",
       "  </tbody>\n",
       "</table>\n",
       "</div>"
      ],
      "text/plain": [
       "         num_critic_for_reviews  duration  director_facebook_likes  \\\n",
       "cluster                                                              \n",
       "0.0                    0.014333  0.007589                 0.002721   \n",
       "1.0                    0.001223  0.002370                 0.005878   \n",
       "\n",
       "         actor_1_facebook_likes     gross  num_voted_users  \\\n",
       "cluster                                                      \n",
       "0.0                    0.001195  0.009913         0.007779   \n",
       "1.0                    0.000342  0.005278         0.001649   \n",
       "\n",
       "         cast_total_facebook_likes  facenumber_in_poster  \\\n",
       "cluster                                                    \n",
       "0.0                       0.001762              0.000016   \n",
       "1.0                       0.000840              0.002618   \n",
       "\n",
       "         num_user_for_reviews    budget  movie_facebook_likes  category  \n",
       "cluster                                                                  \n",
       "0.0                  0.007140  0.000348              0.002881  0.002716  \n",
       "1.0                 -0.001269  0.000940              0.000509 -0.028571  "
      ]
     },
     "execution_count": 89,
     "metadata": {},
     "output_type": "execute_result"
    }
   ],
   "source": [
    "df2_norm.groupby(['cluster']).mean() "
   ]
  },
  {
   "cell_type": "markdown",
   "metadata": {},
   "source": [
    " ### DecisionTreeClassifier"
   ]
  },
  {
   "cell_type": "code",
   "execution_count": 90,
   "metadata": {},
   "outputs": [],
   "source": [
    "# import DecisionTreeClassifier\n",
    "\n",
    "from sklearn.tree import DecisionTreeClassifier\n",
    "from sklearn import tree"
   ]
  },
  {
   "cell_type": "code",
   "execution_count": 91,
   "metadata": {},
   "outputs": [
    {
     "data": {
      "text/plain": [
       "DecisionTreeClassifier(class_weight=None, criterion='gini', max_depth=None,\n",
       "            max_features=None, max_leaf_nodes=None,\n",
       "            min_impurity_decrease=0.0, min_impurity_split=None,\n",
       "            min_samples_leaf=1, min_samples_split=2,\n",
       "            min_weight_fraction_leaf=0.0, presort=False, random_state=None,\n",
       "            splitter='best')"
      ]
     },
     "execution_count": 91,
     "metadata": {},
     "output_type": "execute_result"
    }
   ],
   "source": [
    "# instantiate a decision tree model, and fit with X and y (no split validation needed)\n",
    "\n",
    "# Initialize DecisionTreeClassifier()\n",
    "model = DecisionTreeClassifier()\n",
    "# check the accuracy on the training set\n",
    "model.fit(X,y)"
   ]
  },
  {
   "cell_type": "code",
   "execution_count": 92,
   "metadata": {},
   "outputs": [
    {
     "name": "stdout",
     "output_type": "stream",
     "text": [
      "[3 3 3 ... 3 3 3]\n"
     ]
    }
   ],
   "source": [
    "predicted_Y = model.predict(X)\n",
    "print predicted_Y"
   ]
  },
  {
   "cell_type": "code",
   "execution_count": 93,
   "metadata": {},
   "outputs": [
    {
     "data": {
      "text/plain": [
       "True"
      ]
     },
     "execution_count": 93,
     "metadata": {},
     "output_type": "execute_result"
    }
   ],
   "source": [
    "from sklearn.externals.six import StringIO\n",
    "import pydotplus\n",
    "\n",
    "dot_data = StringIO() \n",
    "tree.export_graphviz(model, out_file=dot_data, feature_names=X.columns,\n",
    "                     filled=True, rounded=True, special_characters=True)\n",
    "graph = pydotplus.graph_from_dot_data(dot_data.getvalue())\n",
    "graph.write_pdf(\"data/dt1.pdf\")\n",
    "# go to data folder and open the pdf file"
   ]
  },
  {
   "cell_type": "code",
   "execution_count": 2,
   "metadata": {},
   "outputs": [
    {
     "data": {
      "text/html": [
       "\n",
       "        <iframe\n",
       "            width=\"1000\"\n",
       "            height=\"500\"\n",
       "            src=\"data/dt1.pdf\"\n",
       "            frameborder=\"0\"\n",
       "            allowfullscreen\n",
       "        ></iframe>\n",
       "        "
      ],
      "text/plain": [
       "<IPython.lib.display.IFrame at 0x4a36898>"
      ]
     },
     "execution_count": 2,
     "metadata": {},
     "output_type": "execute_result"
    }
   ],
   "source": [
    "from IPython.display import IFrame\n",
    "IFrame('data/dt1.pdf', width=1000, height=500)"
   ]
  },
  {
   "cell_type": "markdown",
   "metadata": {},
   "source": [
    "### AgglomerativeClustering"
   ]
  },
  {
   "cell_type": "code",
   "execution_count": 97,
   "metadata": {},
   "outputs": [
    {
     "data": {
      "text/plain": [
       "array([0, 0, 0, ..., 0, 0, 0], dtype=int64)"
      ]
     },
     "execution_count": 97,
     "metadata": {},
     "output_type": "execute_result"
    }
   ],
   "source": [
    "np.random.seed(1) # setting random seed to get the same results each time.\n",
    "\n",
    "agg= AgglomerativeClustering(n_clusters=2, linkage='ward').fit(X)\n",
    "agg.labels_"
   ]
  },
  {
   "cell_type": "code",
   "execution_count": 98,
   "metadata": {},
   "outputs": [
    {
     "data": {
      "image/png": "[encoded data removed]",
      "text/plain": [
       "<Figure size 1152x576 with 1 Axes>"
      ]
     },
     "metadata": {},
     "output_type": "display_data"
    }
   ],
   "source": [
    "from sklearn.cluster import ward_tree\n",
    "from scipy.cluster.hierarchy import dendrogram, linkage, ward\n",
    "\n",
    "plt.figure(figsize=(16,8))\n",
    "\n",
    "linkage_matrix = ward(X)\n",
    "dendrogram(linkage_matrix, orientation=\"left\")\n",
    "plt.tight_layout() # fixes margins"
   ]
  },
  {
   "cell_type": "code",
   "execution_count": 106,
   "metadata": {},
   "outputs": [
    {
     "data": {
      "image/png": "[encoded data removed]",
      "text/plain": [
       "<Figure size 1152x576 with 1 Axes>"
      ]
     },
     "metadata": {},
     "output_type": "display_data"
    }
   ],
   "source": [
    "plt.figure(figsize=(16,8))\n",
    "\n",
    "plt.title('Hierarchical Clustering Dendrogram (truncated)')\n",
    "plt.xlabel('sample index or (cluster size)')\n",
    "plt.ylabel('distance')\n",
    "\n",
    "linkage_matrix = ward(X)\n",
    "dendrogram(linkage_matrix, \n",
    "           #truncate_mode='lastp',  # show only the last p merged clusters\n",
    "           #p=12,  # show only the last p merged clusters\n",
    "           #show_leaf_counts=False,  # otherwise numbers in brackets are counts\n",
    "           leaf_rotation=90.,\n",
    "           leaf_font_size=12.,\n",
    "           show_contracted=True,  # to get a distribution impression in truncated branches\n",
    "           orientation=\"top\")\n",
    "plt.tight_layout() # fixes margins"
   ]
  },
  {
   "cell_type": "code",
   "execution_count": 107,
   "metadata": {},
   "outputs": [
    {
     "data": {
      "image/png": "[encoded data removed]",
      "text/plain": [
       "<Figure size 1152x576 with 1 Axes>"
      ]
     },
     "metadata": {},
     "output_type": "display_data"
    }
   ],
   "source": [
    "plt.figure(figsize=(16,8))\n",
    "\n",
    "plt.title('Hierarchical Clustering Dendrogram (truncated)')\n",
    "plt.xlabel('sample index or (cluster size)')\n",
    "plt.ylabel('distance')\n",
    "\n",
    "linkage_matrix = ward(X)\n",
    "dendrogram(linkage_matrix, \n",
    "           truncate_mode='lastp',  # show only the last p merged clusters\n",
    "           p=2,  # show only the last p merged clusters\n",
    "           #show_leaf_counts=False,  # otherwise numbers in brackets are counts\n",
    "           leaf_rotation=90.,\n",
    "           leaf_font_size=12.,\n",
    "           show_contracted=True,  # to get a distribution impression in truncated branches\n",
    "           orientation=\"top\")\n",
    "plt.tight_layout() # fixes margins"
   ]
  },
  {
   "cell_type": "markdown",
   "metadata": {},
   "source": [
    "I didvided all data to two different clusters. Firstly using K-Mean and secondly using Agglomerative clustering analysis. From K-Mean cluster we can see which observation belong to which cluster. K-Mean give me more data about each variable than Agglomerative analysis. Using Agglomerative analysis we can see distance between different clusters. There are 2697 observations in the first cluster and 3879 observation in the second cluster. "
   ]
  },
  {
   "cell_type": "markdown",
   "metadata": {},
   "source": [
    "# 9. Storytelling"
   ]
  },
  {
   "cell_type": "markdown",
   "metadata": {},
   "source": [
    "Film studios produces several hundred movies in different language. The budget of thesemovies are of the order of hundreds of millions of dollars. Knowing which movies are likely to succeed and which are likely to fail could beneﬁt the production houses greatly as it will enable them to focus their advertising campaigns which itself cost millions of dollars, accordingly. And it could also help them to know when it is most appropriate to release a movie by looking at the overall market.  \n",
    "\n",
    "The highly correlated to imdb_score are:\n",
    "    \n",
    "    num_voted_user\n",
    "    num_critic_for_reviews\n",
    "    num_user_for_reviews\n",
    "    duration\n",
    "\n",
    "For prediction how a movie will be perform I would looking for data:\n",
    "\n",
    "    director name - name of the movie director\n",
    "    main actor name - name of the first actor in the movie\n",
    "    duration\n",
    " \n",
    " From the social media like Facebook or Twitter I can find lots of important informations about number of voted user, number of critics for review and number of user for reviews. It is possible to see if people are interesting about movie, if they are looking forward to see this movie in the cinema. We can make advertising about the movie.\n",
    "\n",
    "The initial dataset to be used will be collected from IMDb.It will consist of movies that were released from year 1916 to 2016. For each film I can see direct name, duration, country, language, movie type and other movie characteristics\n",
    "\n",
    "    - movie can be black and white or colorfull\n",
    "    - duration movie average is 107 minutes\n",
    "    - the highest number of likes on the facebbook platform has Joseph Gordon-Levitt\n",
    "    - John Blanchard has the best imdb_score\n",
    "    - Steven Spielberg is the most common movie director in dataset\n",
    "    - the most popular actor is Robert De Niro\n",
    "    - the actor with the higher number of likes on the Facebook is Darcy Donavan\n",
    "    - the most popular movies are produced in USA\n",
    "    \n",
    "From the data it is possible to see that Joseph Gordon Levittt has the highest number of Facebook likes but he does not belong to the first 3 best director in terms of imdb score. We can also say that Steven Spielberg is the director with the highest numebr of movies. From correlation analysis it is possible to see that there is poor correlation between imdb_score and movie director. We can not say with the high probability that movie with the most popular director will be succesfull movie. \n",
    "\n",
    "From the data it is possible to see that Darcy Donavan has the highest number of Facebook likes but he does not belong to the first 3 best actor 1 in terms of imdb score. We can also say that Robert De Niro played in the highest numebr of movies. From correlation analysis it is possible to see that there is poor correlation between imdb_score and actor 1 who played in the movie. We can not say that movie with the most populat actor will be succesfull movie. \n",
    "\n",
    "There is strongly relationship between imdb_score and number of voted users. It means that with the higher number of voted users, imdb score is higher.\n",
    "There is also strongly correlation between imdb_score and number of critic for reviews. With the higher number of critic for reviews, imdb score is higher.\n",
    "There is strongly correlation between duration and imdb_score. When we spend more time on creating movie, imdb score is higher.\n",
    "\n",
    "We can predict that when we focus on the movie and spend more time on creating the movie our imdb score should be higher. There is not big correlation imdb and director or actor. When we will have the best actor in the movie, it does not mean that our movie will be succesfull. If I want to see if movie will be succesfull, I should look on the social media and see what people think about the movie.\n",
    "\n",
    "From the data we can see prediction of linear regression. We can see for which variable should we focus on and on which not.\n",
    "\n",
    "    0\tduration\t            1.149989e-02\n",
    "    1\tdirector_facebook_likes\t6.538867e-06\n",
    "    2\tactor_1_facebook_likes\t1.083255e-05\n",
    "    3\tgross\t                -1.985789e-09\n",
    "    4\tnum_voted_users\t        4.123976e-06\n",
    "    5\tcast_total_facebook_likes\t-9.272106e-06\n",
    "    6\tfacenumber_in_poster\t-3.546854e-02\n",
    "    7\tnum_user_for_reviews\t-4.385848e-04\n",
    "    8\tbudget\t                -2.079606e-11\n",
    "    9\tmovie_facebook_likes\t2.070630e-06\n",
    "\n",
    "From linear regression we can see that there is big linear regression with director_facebook_likes and also high linear regression with num_voted_users and low linear regression with cast_total_facebook_likes. I would focus on the two variables with the higher linear regression.\n",
    "\n",
    "It is possible to use lots of different analyses and method. For my analysis I used more different analysis and I got the higher accurancy 76% by using Random Forest. From classification analyses I got almost same result. The most importance features are num_voted_users and duration. Accuracy is almost 76% using random forest analyse. It means, that lots of data were correclty classified. We can say that variables num_voted_users and movie duration are the most important. \n",
    "\n",
    "I didvided all data to two different clusters. Firstly using K-Mean and secondly using Agglomerative clustering analysis. From K-Mean cluster we can see which observation belong to which cluster. K-Mean give me more data about each variable than Agglomerative analysis. Using Agglomerative analysis we can see distance between different clusters. There are 2697 observations in the first cluster and 3879 observation in the second cluster. "
   ]
  }
 ],
 "metadata": {
  "kernelspec": {
   "display_name": "Python 2",
   "language": "python",
   "name": "python2"
  },
  "language_info": {
   "codemirror_mode": {
    "name": "ipython",
    "version": 2
   },
   "file_extension": ".py",
   "mimetype": "text/x-python",
   "name": "python",
   "nbconvert_exporter": "python",
   "pygments_lexer": "ipython2",
   "version": "2.7.15"
  }
 },
 "nbformat": 4,
 "nbformat_minor": 2
}
